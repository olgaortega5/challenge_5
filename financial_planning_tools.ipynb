{
 "cells": [
  {
   "cell_type": "markdown",
   "metadata": {},
   "source": [
    "# Financial Planning with APIs and Simulations\n",
    "\n",
    "In this Challenge, you’ll create two financial analysis tools by using a single Jupyter notebook:\n",
    "\n",
    "Part 1: A financial planner for emergencies. The members will be able to use this tool to visualize their current savings. The members can then determine if they have enough reserves for an emergency fund.\n",
    "\n",
    "Part 2: A financial planner for retirement. This tool will forecast the performance of their retirement portfolio in 30 years. To do this, the tool will make an Alpaca API call via the Alpaca SDK to get historical price data for use in Monte Carlo simulations.\n",
    "\n",
    "You’ll use the information from the Monte Carlo simulation to answer questions about the portfolio in your Jupyter notebook.\n",
    "\n"
   ]
  },
  {
   "cell_type": "code",
   "execution_count": 1,
   "metadata": {},
   "outputs": [],
   "source": [
    "# Import the required libraries and dependencies\n",
    "import os\n",
    "import requests\n",
    "import json\n",
    "import pandas as pd\n",
    "from dotenv import load_dotenv\n",
    "import alpaca_trade_api as tradeapi\n",
    "from MCForecastTools import MCSimulation\n",
    "\n",
    "%matplotlib inline"
   ]
  },
  {
   "cell_type": "code",
   "execution_count": 2,
   "metadata": {},
   "outputs": [
    {
     "data": {
      "text/plain": [
       "True"
      ]
     },
     "execution_count": 2,
     "metadata": {},
     "output_type": "execute_result"
    }
   ],
   "source": [
    "# Load the environment variables from the .env file\n",
    "#by calling the load_dotenv function\n",
    "load_dotenv('keys.env')"
   ]
  },
  {
   "cell_type": "markdown",
   "metadata": {},
   "source": [
    "## Part 1: Create a Financial Planner for Emergencies"
   ]
  },
  {
   "cell_type": "markdown",
   "metadata": {},
   "source": [
    "### Evaluate the Cryptocurrency Wallet by Using the Requests Library\n",
    "\n",
    "In this section, you’ll determine the current value of a member’s cryptocurrency wallet. You’ll collect the current prices for the Bitcoin and Ethereum cryptocurrencies by using the Python Requests library. For the prototype, you’ll assume that the member holds the 1.2 Bitcoins (BTC) and 5.3 Ethereum coins (ETH). To do all this, complete the following steps:\n",
    "\n",
    "1. Create a variable named `monthly_income`, and set its value to `12000`.\n",
    "\n",
    "2. Use the Requests library to get the current price (in US dollars) of Bitcoin (BTC) and Ethereum (ETH) by using the API endpoints that the starter code supplies.\n",
    "\n",
    "3. Navigate the JSON response object to access the current price of each coin, and store each in a variable.\n",
    "\n",
    "    > **Hint** Note the specific identifier for each cryptocurrency in the API JSON response. The Bitcoin identifier is `1`, and the Ethereum identifier is `1027`.\n",
    "\n",
    "4. Calculate the value, in US dollars, of the current amount of each cryptocurrency and of the entire cryptocurrency wallet.\n",
    "\n"
   ]
  },
  {
   "cell_type": "code",
   "execution_count": 3,
   "metadata": {},
   "outputs": [],
   "source": [
    "# The current number of coins for each cryptocurrency asset held in the portfolio.\n",
    "btc_coins = 1.2\n",
    "eth_coins = 5.3"
   ]
  },
  {
   "cell_type": "markdown",
   "metadata": {},
   "source": [
    "#### Step 1: Create a variable named `monthly_income`, and set its value to `12000`."
   ]
  },
  {
   "cell_type": "code",
   "execution_count": 4,
   "metadata": {},
   "outputs": [],
   "source": [
    "# The monthly amount for the member's household income\n",
    "monthly_income = 12000\n"
   ]
  },
  {
   "cell_type": "markdown",
   "metadata": {},
   "source": [
    "#### Review the endpoint URLs for the API calls to Free Crypto API in order to get the current pricing information for both BTC and ETH."
   ]
  },
  {
   "cell_type": "code",
   "execution_count": 5,
   "metadata": {},
   "outputs": [],
   "source": [
    "# The Free Crypto API Call endpoint URLs for the held cryptocurrency assets\n",
    "btc_url = \"https://api.alternative.me/v2/ticker/Bitcoin/?convert=USD\"\n",
    "eth_url = \"https://api.alternative.me/v2/ticker/Ethereum/?convert=USD\""
   ]
  },
  {
   "cell_type": "markdown",
   "metadata": {},
   "source": [
    "#### Step 2. Use the Requests library to get the current price (in US dollars) of Bitcoin (BTC) and Ethereum (ETH) by using the API endpoints that the starter code supplied."
   ]
  },
  {
   "cell_type": "code",
   "execution_count": 6,
   "metadata": {},
   "outputs": [
    {
     "name": "stdout",
     "output_type": "stream",
     "text": [
      "{\n",
      "    \"data\": {\n",
      "        \"1\": {\n",
      "            \"circulating_supply\": 19239862,\n",
      "            \"id\": 1,\n",
      "            \"last_updated\": 1671642591,\n",
      "            \"max_supply\": 21000000,\n",
      "            \"name\": \"Bitcoin\",\n",
      "            \"quotes\": {\n",
      "                \"USD\": {\n",
      "                    \"market_cap\": 322805833692,\n",
      "                    \"percent_change_1h\": -0.250644079727325,\n",
      "                    \"percent_change_24h\": -0.12636696776016,\n",
      "                    \"percent_change_7d\": -5.41811369405218,\n",
      "                    \"percentage_change_1h\": -0.250644079727325,\n",
      "                    \"percentage_change_24h\": -0.12636696776016,\n",
      "                    \"percentage_change_7d\": -5.41811369405218,\n",
      "                    \"price\": 16820.6,\n",
      "                    \"volume_24h\": 16871567381\n",
      "                }\n",
      "            },\n",
      "            \"rank\": 1,\n",
      "            \"symbol\": \"BTC\",\n",
      "            \"total_supply\": 19239862,\n",
      "            \"website_slug\": \"bitcoin\"\n",
      "        }\n",
      "    },\n",
      "    \"metadata\": {\n",
      "        \"error\": null,\n",
      "        \"num_cryptocurrencies\": 3119,\n",
      "        \"timestamp\": 1671642591\n",
      "    }\n",
      "}\n"
     ]
    }
   ],
   "source": [
    "# Using the Python requests library, make an API call to access the current price of BTC\n",
    "btc_response = requests.get(btc_url).json()\n",
    "\n",
    "# Use the json.dumps function to review the response data from the API call\n",
    "# Use the indent and sort_keys parameters to make the response object readable\n",
    "print(json.dumps(btc_response, indent = 4, sort_keys= True))"
   ]
  },
  {
   "cell_type": "code",
   "execution_count": 7,
   "metadata": {},
   "outputs": [
    {
     "name": "stdout",
     "output_type": "stream",
     "text": [
      "{\n",
      "    \"data\": {\n",
      "        \"1027\": {\n",
      "            \"circulating_supply\": 120522679,\n",
      "            \"id\": 1027,\n",
      "            \"last_updated\": 1671642589,\n",
      "            \"max_supply\": 120522679,\n",
      "            \"name\": \"Ethereum\",\n",
      "            \"quotes\": {\n",
      "                \"USD\": {\n",
      "                    \"market_cap\": 145820151878,\n",
      "                    \"percent_change_1h\": -0.400310510783594,\n",
      "                    \"percent_change_24h\": -0.104993317357236,\n",
      "                    \"percent_change_7d\": -8.20013775619298,\n",
      "                    \"percentage_change_1h\": -0.400310510783594,\n",
      "                    \"percentage_change_24h\": -0.104993317357236,\n",
      "                    \"percentage_change_7d\": -8.20013775619298,\n",
      "                    \"price\": 1211.22,\n",
      "                    \"volume_24h\": 4347217389\n",
      "                }\n",
      "            },\n",
      "            \"rank\": 2,\n",
      "            \"symbol\": \"ETH\",\n",
      "            \"total_supply\": 120522679,\n",
      "            \"website_slug\": \"ethereum\"\n",
      "        }\n",
      "    },\n",
      "    \"metadata\": {\n",
      "        \"error\": null,\n",
      "        \"num_cryptocurrencies\": 3119,\n",
      "        \"timestamp\": 1671642589\n",
      "    }\n",
      "}\n"
     ]
    }
   ],
   "source": [
    "# Using the Python requests library, make an API call to access the current price ETH\n",
    "eth_response = requests.get(eth_url).json()\n",
    "\n",
    "# Use the json.dumps function to review the response data from the API call\n",
    "# Use the indent and sort_keys parameters to make the response object readable\n",
    "print(json.dumps(eth_response, indent = 4, sort_keys= True))\n"
   ]
  },
  {
   "cell_type": "markdown",
   "metadata": {},
   "source": [
    "#### Step 3: Navigate the JSON response object to access the current price of each coin, and store each in a variable."
   ]
  },
  {
   "cell_type": "code",
   "execution_count": 8,
   "metadata": {},
   "outputs": [
    {
     "data": {
      "text/plain": [
       "16820.6"
      ]
     },
     "execution_count": 8,
     "metadata": {},
     "output_type": "execute_result"
    }
   ],
   "source": [
    "# Navigate the BTC response object to access the current price of BTC\n",
    "btc_price = btc_response['data']['1']['quotes']['USD']['price']\n",
    "\n",
    "# Print the current price of BTC\n",
    "btc_price\n"
   ]
  },
  {
   "cell_type": "code",
   "execution_count": 9,
   "metadata": {},
   "outputs": [
    {
     "data": {
      "text/plain": [
       "1211.22"
      ]
     },
     "execution_count": 9,
     "metadata": {},
     "output_type": "execute_result"
    }
   ],
   "source": [
    "# Navigate the BTC response object to access the current price of ETH\n",
    "eth_price = eth_response['data']['1027']['quotes']['USD']['price']\n",
    "\n",
    "# Print the current price of ETH\n",
    "eth_price"
   ]
  },
  {
   "cell_type": "markdown",
   "metadata": {},
   "source": [
    "### Step 4: Calculate the value, in US dollars, of the current amount of each cryptocurrency and of the entire cryptocurrency wallet."
   ]
  },
  {
   "cell_type": "code",
   "execution_count": 10,
   "metadata": {},
   "outputs": [
    {
     "data": {
      "text/plain": [
       "20184.719999999998"
      ]
     },
     "execution_count": 10,
     "metadata": {},
     "output_type": "execute_result"
    }
   ],
   "source": [
    "# Compute the current value of the BTC holding \n",
    "btc_value = btc_coins * btc_price\n",
    "\n",
    "# Print current value of your holding in BTC\n",
    "btc_value\n"
   ]
  },
  {
   "cell_type": "code",
   "execution_count": 11,
   "metadata": {},
   "outputs": [
    {
     "data": {
      "text/plain": [
       "6419.466"
      ]
     },
     "execution_count": 11,
     "metadata": {},
     "output_type": "execute_result"
    }
   ],
   "source": [
    "# Compute the current value of the ETH holding \n",
    "eth_value = eth_coins * eth_price\n",
    "\n",
    "# Print current value of your holding in ETH\n",
    "eth_value\n"
   ]
  },
  {
   "cell_type": "code",
   "execution_count": 12,
   "metadata": {},
   "outputs": [
    {
     "data": {
      "text/plain": [
       "26604.185999999998"
      ]
     },
     "execution_count": 12,
     "metadata": {},
     "output_type": "execute_result"
    }
   ],
   "source": [
    "# Compute the total value of the cryptocurrency wallet\n",
    "# Add the value of the BTC holding to the value of the ETH holding\n",
    "total_crypto_wallet = btc_value + eth_value\n",
    "\n",
    "# Print current cryptocurrency wallet balance\n",
    "total_crypto_wallet\n"
   ]
  },
  {
   "cell_type": "markdown",
   "metadata": {},
   "source": [
    "### Evaluate the Stock and Bond Holdings by Using the Alpaca SDK\n",
    "\n",
    "In this section, you’ll determine the current value of a member’s stock and bond holdings. You’ll make an API call to Alpaca via the Alpaca SDK to get the current closing prices of the SPDR S&P 500 ETF Trust (ticker: SPY) and of the iShares Core US Aggregate Bond ETF (ticker: AGG). For the prototype, assume that the member holds 110 shares of SPY, which represents the stock portion of their portfolio, and 200 shares of AGG, which represents the bond portion. To do all this, complete the following steps:\n",
    "\n",
    "1. In the `Starter_Code` folder, create an environment file (`.env`) to store the values of your Alpaca API key and Alpaca secret key.\n",
    "\n",
    "2. Set the variables for the Alpaca API and secret keys. Using the Alpaca SDK, create the Alpaca `tradeapi.REST` object. In this object, include the parameters for the Alpaca API key, the secret key, and the version number.\n",
    "\n",
    "3. Set the following parameters for the Alpaca API call:\n",
    "\n",
    "    - `tickers`: Use the tickers for the member’s stock and bond holdings.\n",
    "\n",
    "    - `timeframe`: Use a time frame of one day.\n",
    "\n",
    "    - `start_date` and `end_date`: Use the same date for these parameters, and format them with the date of the previous weekday (or `2020-08-07`). This is because you want the one closing price for the most-recent trading day.\n",
    "\n",
    "4. Get the current closing prices for `SPY` and `AGG` by using the Alpaca `get_bars` function. Format the response as a Pandas DataFrame by including the `df` property at the end of the `get_bars` function.\n",
    "\n",
    "5. Navigating the Alpaca response DataFrame, select the `SPY` and `AGG` closing prices, and store them as variables.\n",
    "\n",
    "6. Calculate the value, in US dollars, of the current amount of shares in each of the stock and bond portions of the portfolio, and print the results.\n"
   ]
  },
  {
   "cell_type": "markdown",
   "metadata": {},
   "source": [
    "#### Review the total number of shares held in both (SPY) and (AGG)."
   ]
  },
  {
   "cell_type": "code",
   "execution_count": 13,
   "metadata": {},
   "outputs": [],
   "source": [
    "# Current amount of shares held in both the stock (SPY) and bond (AGG) portion of the portfolio.\n",
    "spy_shares = 110\n",
    "agg_shares = 200\n"
   ]
  },
  {
   "cell_type": "markdown",
   "metadata": {},
   "source": [
    "#### Step 1: In the `Starter_Code` folder, create an environment file (`.env`) to store the values of your Alpaca API key and Alpaca secret key."
   ]
  },
  {
   "cell_type": "markdown",
   "metadata": {},
   "source": [
    "#### Step 2: Set the variables for the Alpaca API and secret keys. Using the Alpaca SDK, create the Alpaca `tradeapi.REST` object. In this object, include the parameters for the Alpaca API key, the secret key, and the version number."
   ]
  },
  {
   "cell_type": "code",
   "execution_count": 14,
   "metadata": {},
   "outputs": [],
   "source": [
    "# Set the variables for the Alpaca API and secret keys\n",
    "alpaca_api_key = os.getenv('alpaca_api_key')\n",
    "alpaca_secret_key = os.getenv('alpaca_secret_key')\n",
    "\n",
    "# Create the Alpaca tradeapi.REST object\n",
    "alpaca = tradeapi.REST(alpaca_api_key, alpaca_secret_key, api_version = 'v2')\n"
   ]
  },
  {
   "cell_type": "markdown",
   "metadata": {},
   "source": [
    "#### Step 3: Set the following parameters for the Alpaca API call:\n",
    "\n",
    "- `tickers`: Use the tickers for the member’s stock and bond holdings.\n",
    "\n",
    "- `timeframe`: Use a time frame of one day.\n",
    "\n",
    "- `start_date` and `end_date`: Use the same date for these parameters, and format them with the date of the previous weekday (or `2020-08-07`). This is because you want the one closing price for the most-recent trading day.\n"
   ]
  },
  {
   "cell_type": "code",
   "execution_count": 15,
   "metadata": {},
   "outputs": [],
   "source": [
    "# Set the tickers for both the bond and stock portion of the portfolio\n",
    "tickers = ['SPY', 'AGG']\n",
    "\n",
    "# Set timeframe to 1Day\n",
    "timeframe = '1Day'\n",
    "\n",
    "# Format current date as ISO format\n",
    "# Set both the start and end date at the date of your prior weekday \n",
    "# This will give you the closing price of the previous trading day\n",
    "# Alternatively you can use a start and end date of 2020-08-07\n",
    "start_date = pd.Timestamp(\"2022-12-16\", tz = \"America/New_York\").isoformat()\n",
    "end_date = pd.Timestamp(\"2022-12-16\", tz = \"America/New_York\").isoformat()\n"
   ]
  },
  {
   "cell_type": "markdown",
   "metadata": {},
   "source": [
    "#### Step 4: Get the current closing prices for `SPY` and `AGG` by using the Alpaca `get_bars` function. Format the response as a Pandas DataFrame by including the `df` property at the end of the `get_bars` function."
   ]
  },
  {
   "cell_type": "code",
   "execution_count": 16,
   "metadata": {},
   "outputs": [
    {
     "data": {
      "text/html": [
       "<div>\n",
       "<style scoped>\n",
       "    .dataframe tbody tr th:only-of-type {\n",
       "        vertical-align: middle;\n",
       "    }\n",
       "\n",
       "    .dataframe tbody tr th {\n",
       "        vertical-align: top;\n",
       "    }\n",
       "\n",
       "    .dataframe thead tr th {\n",
       "        text-align: left;\n",
       "    }\n",
       "\n",
       "    .dataframe thead tr:last-of-type th {\n",
       "        text-align: right;\n",
       "    }\n",
       "</style>\n",
       "<table border=\"1\" class=\"dataframe\">\n",
       "  <thead>\n",
       "    <tr>\n",
       "      <th></th>\n",
       "      <th colspan=\"7\" halign=\"left\">AGG</th>\n",
       "      <th colspan=\"7\" halign=\"left\">SPY</th>\n",
       "    </tr>\n",
       "    <tr>\n",
       "      <th></th>\n",
       "      <th>open</th>\n",
       "      <th>high</th>\n",
       "      <th>low</th>\n",
       "      <th>close</th>\n",
       "      <th>volume</th>\n",
       "      <th>trade_count</th>\n",
       "      <th>vwap</th>\n",
       "      <th>open</th>\n",
       "      <th>high</th>\n",
       "      <th>low</th>\n",
       "      <th>close</th>\n",
       "      <th>volume</th>\n",
       "      <th>trade_count</th>\n",
       "      <th>vwap</th>\n",
       "    </tr>\n",
       "    <tr>\n",
       "      <th>timestamp</th>\n",
       "      <th></th>\n",
       "      <th></th>\n",
       "      <th></th>\n",
       "      <th></th>\n",
       "      <th></th>\n",
       "      <th></th>\n",
       "      <th></th>\n",
       "      <th></th>\n",
       "      <th></th>\n",
       "      <th></th>\n",
       "      <th></th>\n",
       "      <th></th>\n",
       "      <th></th>\n",
       "      <th></th>\n",
       "    </tr>\n",
       "  </thead>\n",
       "  <tbody>\n",
       "    <tr>\n",
       "      <th>2022-12-16 05:00:00+00:00</th>\n",
       "      <td>98.96</td>\n",
       "      <td>99.52</td>\n",
       "      <td>98.94</td>\n",
       "      <td>99.35</td>\n",
       "      <td>7413804</td>\n",
       "      <td>25976</td>\n",
       "      <td>99.324408</td>\n",
       "      <td>385.18</td>\n",
       "      <td>386.575</td>\n",
       "      <td>381.04</td>\n",
       "      <td>383.27</td>\n",
       "      <td>119265226</td>\n",
       "      <td>743779</td>\n",
       "      <td>383.743817</td>\n",
       "    </tr>\n",
       "  </tbody>\n",
       "</table>\n",
       "</div>"
      ],
      "text/plain": [
       "                             AGG                                            \\\n",
       "                            open   high    low  close   volume trade_count   \n",
       "timestamp                                                                    \n",
       "2022-12-16 05:00:00+00:00  98.96  99.52  98.94  99.35  7413804       25976   \n",
       "\n",
       "                                         SPY                           \\\n",
       "                                vwap    open     high     low   close   \n",
       "timestamp                                                               \n",
       "2022-12-16 05:00:00+00:00  99.324408  385.18  386.575  381.04  383.27   \n",
       "\n",
       "                                                              \n",
       "                              volume trade_count        vwap  \n",
       "timestamp                                                     \n",
       "2022-12-16 05:00:00+00:00  119265226      743779  383.743817  "
      ]
     },
     "execution_count": 16,
     "metadata": {},
     "output_type": "execute_result"
    }
   ],
   "source": [
    "# Use the Alpaca get_bars function to get current closing prices the portfolio\n",
    "# Be sure to set the `df` property after the function to format the response object as a DataFrame\n",
    "current_prices = alpaca.get_bars(tickers, timeframe, start = start_date, end = end_date).df\n",
    "\n",
    "# Reorganize the DataFrame\n",
    "# Separate ticker data\n",
    "AGG = current_prices[current_prices['symbol'] == 'AGG'].drop('symbol', axis = 1)\n",
    "SPY = current_prices[current_prices['symbol'] == 'SPY'].drop('symbol', axis = 1)\n",
    "\n",
    "# Concatenate the ticker DataFrames\n",
    "current_prices = pd.concat([AGG, SPY], axis = 1, keys = ['AGG', 'SPY'])\n",
    "\n",
    "# Review the first 5 rows of the Alpaca DataFrame\n",
    "current_prices\n"
   ]
  },
  {
   "cell_type": "markdown",
   "metadata": {},
   "source": [
    "#### Step 5: Navigating the Alpaca response DataFrame, select the `SPY` and `AGG` closing prices, and store them as variables."
   ]
  },
  {
   "cell_type": "code",
   "execution_count": 17,
   "metadata": {},
   "outputs": [
    {
     "data": {
      "text/plain": [
       "99.35"
      ]
     },
     "execution_count": 17,
     "metadata": {},
     "output_type": "execute_result"
    }
   ],
   "source": [
    "# Access the closing price for AGG from the Alpaca DataFrame\n",
    "# Converting the value to a floating point number\n",
    "agg_close_price = current_prices['AGG']['close'][0]\n",
    "\n",
    "# Print the AGG closing price\n",
    "agg_close_price\n"
   ]
  },
  {
   "cell_type": "code",
   "execution_count": 18,
   "metadata": {},
   "outputs": [
    {
     "data": {
      "text/plain": [
       "383.27"
      ]
     },
     "execution_count": 18,
     "metadata": {},
     "output_type": "execute_result"
    }
   ],
   "source": [
    "# Access the closing price for SPY from the Alpaca DataFrame\n",
    "# Converting the value to a floating point number\n",
    "spy_close_price = current_prices['SPY']['close'][0]\n",
    "\n",
    "# Print the SPY closing price\n",
    "spy_close_price\n"
   ]
  },
  {
   "cell_type": "markdown",
   "metadata": {},
   "source": [
    "#### Step 6: Calculate the value, in US dollars, of the current amount of shares in each of the stock and bond portions of the portfolio, and print the results."
   ]
  },
  {
   "cell_type": "code",
   "execution_count": 19,
   "metadata": {},
   "outputs": [
    {
     "data": {
      "text/plain": [
       "19870.0"
      ]
     },
     "execution_count": 19,
     "metadata": {},
     "output_type": "execute_result"
    }
   ],
   "source": [
    "# Calculate the current value of the bond portion of the portfolio\n",
    "agg_value = agg_shares * agg_close_price\n",
    "\n",
    "# Print the current value of the bond portfolio\n",
    "agg_value\n"
   ]
  },
  {
   "cell_type": "code",
   "execution_count": 20,
   "metadata": {},
   "outputs": [
    {
     "data": {
      "text/plain": [
       "42159.7"
      ]
     },
     "execution_count": 20,
     "metadata": {},
     "output_type": "execute_result"
    }
   ],
   "source": [
    "# Calculate the current value of the stock portion of the portfolio\n",
    "spy_value = spy_shares * spy_close_price\n",
    "\n",
    "# Print the current value of the stock portfolio\n",
    "spy_value\n"
   ]
  },
  {
   "cell_type": "code",
   "execution_count": 73,
   "metadata": {},
   "outputs": [
    {
     "data": {
      "text/plain": [
       "62029.7"
      ]
     },
     "execution_count": 73,
     "metadata": {},
     "output_type": "execute_result"
    }
   ],
   "source": [
    "# Calculate the total value of the stock and bond portion of the portfolio\n",
    "total_stocks_bonds = spy_value + agg_value\n",
    "\n",
    "# Print the current balance of the stock and bond portion of the portfolio\n",
    "total_stocks_bonds\n"
   ]
  },
  {
   "cell_type": "code",
   "execution_count": 22,
   "metadata": {},
   "outputs": [
    {
     "data": {
      "text/plain": [
       "88633.886"
      ]
     },
     "execution_count": 22,
     "metadata": {},
     "output_type": "execute_result"
    }
   ],
   "source": [
    "# Calculate the total value of the member's entire savings portfolio\n",
    "# Add the value of the cryptocurrency walled to the value of the total stocks and bonds\n",
    "total_portfolio = total_stocks_bonds + total_crypto_wallet\n",
    "\n",
    "# Print current cryptocurrency wallet balance\n",
    "total_portfolio\n"
   ]
  },
  {
   "cell_type": "markdown",
   "metadata": {},
   "source": [
    "### Evaluate the Emergency Fund\n",
    "\n",
    "In this section, you’ll use the valuations for the cryptocurrency wallet and for the stock and bond portions of the portfolio to determine if the credit union member has enough savings to build an emergency fund into their financial plan. To do this, complete the following steps:\n",
    "\n",
    "1. Create a Python list named `savings_data` that has two elements. The first element contains the total value of the cryptocurrency wallet. The second element contains the total value of the stock and bond portions of the portfolio.\n",
    "\n",
    "2. Use the `savings_data` list to create a Pandas DataFrame named `savings_df`, and then display this DataFrame. The function to create the DataFrame should take the following three parameters:\n",
    "\n",
    "    - `savings_data`: Use the list that you just created.\n",
    "\n",
    "    - `columns`: Set this parameter equal to a Python list with a single value called `amount`.\n",
    "\n",
    "    - `index`: Set this parameter equal to a Python list with the values of `crypto` and `stock/bond`.\n",
    "\n",
    "3. Use the `savings_df` DataFrame to plot a pie chart that visualizes the composition of the member’s portfolio. The y-axis of the pie chart uses `amount`. Be sure to add a title.\n",
    "\n",
    "4. Using Python, determine if the current portfolio has enough to create an emergency fund as part of the member’s financial plan. Ideally, an emergency fund should equal to three times the member’s monthly income. To do this, implement the following steps:\n",
    "\n",
    "    1. Create a variable named `emergency_fund_value`, and set it equal to three times the value of the member’s `monthly_income` of $12000. (You set this earlier in Part 1).\n",
    "\n",
    "    2. Create a series of three if statements to determine if the member’s total portfolio is large enough to fund the emergency portfolio:\n",
    "\n",
    "        1. If the total portfolio value is greater than the emergency fund value, display a message congratulating the member for having enough money in this fund.\n",
    "\n",
    "        2. Else if the total portfolio value is equal to the emergency fund value, display a message congratulating the member on reaching this important financial goal.\n",
    "\n",
    "        3. Else the total portfolio is less than the emergency fund value, so display a message showing how many dollars away the member is from reaching the goal. (Subtract the total portfolio value from the emergency fund value.)\n"
   ]
  },
  {
   "cell_type": "markdown",
   "metadata": {},
   "source": [
    "#### Step 1: Create a Python list named `savings_data` that has two elements. The first element contains the total value of the cryptocurrency wallet. The second element contains the total value of the stock and bond portions of the portfolio."
   ]
  },
  {
   "cell_type": "code",
   "execution_count": 23,
   "metadata": {},
   "outputs": [
    {
     "data": {
      "text/plain": [
       "[26604.185999999998, 62029.7]"
      ]
     },
     "execution_count": 23,
     "metadata": {},
     "output_type": "execute_result"
    }
   ],
   "source": [
    "# Consolidate financial assets data into a Python list\n",
    "savings_data = [total_crypto_wallet, total_stocks_bonds]\n",
    "\n",
    "# Review the Python list savings_data\n",
    "savings_data\n",
    "    "
   ]
  },
  {
   "cell_type": "markdown",
   "metadata": {},
   "source": [
    "#### Step 2: Use the `savings_data` list to create a Pandas DataFrame named `savings_df`, and then display this DataFrame. The function to create the DataFrame should take the following three parameters:\n",
    "\n",
    "- `savings_data`: Use the list that you just created.\n",
    "\n",
    "- `columns`: Set this parameter equal to a Python list with a single value called `amount`.\n",
    "\n",
    "- `index`: Set this parameter equal to a Python list with the values of `crypto` and `stock/bond`.\n"
   ]
  },
  {
   "cell_type": "code",
   "execution_count": 24,
   "metadata": {},
   "outputs": [
    {
     "data": {
      "text/html": [
       "<div>\n",
       "<style scoped>\n",
       "    .dataframe tbody tr th:only-of-type {\n",
       "        vertical-align: middle;\n",
       "    }\n",
       "\n",
       "    .dataframe tbody tr th {\n",
       "        vertical-align: top;\n",
       "    }\n",
       "\n",
       "    .dataframe thead th {\n",
       "        text-align: right;\n",
       "    }\n",
       "</style>\n",
       "<table border=\"1\" class=\"dataframe\">\n",
       "  <thead>\n",
       "    <tr style=\"text-align: right;\">\n",
       "      <th></th>\n",
       "      <th>amount</th>\n",
       "    </tr>\n",
       "  </thead>\n",
       "  <tbody>\n",
       "    <tr>\n",
       "      <th>crypto</th>\n",
       "      <td>26604.186</td>\n",
       "    </tr>\n",
       "    <tr>\n",
       "      <th>stock/bond</th>\n",
       "      <td>62029.700</td>\n",
       "    </tr>\n",
       "  </tbody>\n",
       "</table>\n",
       "</div>"
      ],
      "text/plain": [
       "               amount\n",
       "crypto      26604.186\n",
       "stock/bond  62029.700"
      ]
     },
     "execution_count": 24,
     "metadata": {},
     "output_type": "execute_result"
    }
   ],
   "source": [
    "# Create a Pandas DataFrame called savings_df \n",
    "savings_df = pd.DataFrame(savings_data, columns = ['amount'], index = ['crypto', 'stock/bond'])\n",
    "\n",
    "# Display the savings_df DataFrame\n",
    "savings_df\n"
   ]
  },
  {
   "cell_type": "markdown",
   "metadata": {},
   "source": [
    "#### Step 3: Use the `savings_df` DataFrame to plot a pie chart that visualizes the composition of the member’s portfolio. The y-axis of the pie chart uses `amount`. Be sure to add a title."
   ]
  },
  {
   "cell_type": "code",
   "execution_count": 25,
   "metadata": {},
   "outputs": [
    {
     "data": {
      "text/plain": [
       "<AxesSubplot:ylabel='amount'>"
      ]
     },
     "execution_count": 25,
     "metadata": {},
     "output_type": "execute_result"
    },
    {
     "data": {
      "image/png": "[encoded data removed]",
      "text/plain": [
       "<Figure size 640x480 with 1 Axes>"
      ]
     },
     "metadata": {},
     "output_type": "display_data"
    }
   ],
   "source": [
    "# Plot the total value of the member's portfolio (crypto and stock/bond) in a pie chart\n",
    "savings_df.plot.pie(y = 'amount')\n"
   ]
  },
  {
   "cell_type": "markdown",
   "metadata": {},
   "source": [
    "#### Step 4: Using Python, determine if the current portfolio has enough to create an emergency fund as part of the member’s financial plan. Ideally, an emergency fund should equal to three times the member’s monthly income. To do this, implement the following steps:\n",
    "\n",
    "Step 1. Create a variable named `emergency_fund_value`, and set it equal to three times the value of the member’s `monthly_income` of 12000. (You set this earlier in Part 1).\n",
    "\n",
    "Step 2. Create a series of three if statements to determine if the member’s total portfolio is large enough to fund the emergency portfolio:\n",
    "\n",
    "* If the total portfolio value is greater than the emergency fund value, display a message congratulating the member for having enough money in this fund.\n",
    "\n",
    "* Else if the total portfolio value is equal to the emergency fund value, display a message congratulating the member on reaching this important financial goal.\n",
    "\n",
    "* Else the total portfolio is less than the emergency fund value, so display a message showing how many dollars away the member is from reaching the goal. (Subtract the total portfolio value from the emergency fund value.)\n"
   ]
  },
  {
   "cell_type": "markdown",
   "metadata": {},
   "source": [
    "##### Step 4-1: Create a variable named `emergency_fund_value`, and set it equal to three times the value of the member’s `monthly_income` of 12000. (You set this earlier in Part 1)."
   ]
  },
  {
   "cell_type": "code",
   "execution_count": 26,
   "metadata": {},
   "outputs": [],
   "source": [
    "# Create a variable named emergency_fund_value\n",
    "emergency_fund_value=monthly_income * 3\n",
    "\n"
   ]
  },
  {
   "cell_type": "markdown",
   "metadata": {},
   "source": [
    "##### Step 4-2: Create a series of three if statements to determine if the member’s total portfolio is large enough to fund the emergency portfolio:\n",
    "\n",
    "* If the total portfolio value is greater than the emergency fund value, display a message congratulating the member for having enough money in this fund.\n",
    "\n",
    "* Else if the total portfolio value is equal to the emergency fund value, display a message congratulating the member on reaching this important financial goal.\n",
    "\n",
    "* Else the total portfolio is less than the emergency fund value, so display a message showing how many dollars away the member is from reaching the goal. (Subtract the total portfolio value from the emergency fund value.)"
   ]
  },
  {
   "cell_type": "code",
   "execution_count": 27,
   "metadata": {},
   "outputs": [
    {
     "name": "stdout",
     "output_type": "stream",
     "text": [
      "Congratulations, there is enough money in your savings\n"
     ]
    }
   ],
   "source": [
    "# Evaluate the possibility of creating an emergency fund with 3 conditions:\n",
    "\n",
    "if total_portfolio > emergency_fund_value:\n",
    "    print(\"Congratulations, there is enough money in your savings\")\n",
    "elif total_portfolio == emergency_fund_value:\n",
    "    print(\"Congratulations, reaching this important financial goal\")\n",
    "else:\n",
    "    print(f\"You are ${emergency_fund_value - total_portfolio} away from reaching your goal\")\n",
    "    "
   ]
  },
  {
   "cell_type": "markdown",
   "metadata": {},
   "source": [
    "## Part 2: Create a Financial Planner for Retirement"
   ]
  },
  {
   "cell_type": "markdown",
   "metadata": {},
   "source": [
    "### Create the Monte Carlo Simulation\n",
    "\n",
    "In this section, you’ll use the MCForecastTools library to create a Monte Carlo simulation for the member’s savings portfolio. To do this, complete the following steps:\n",
    "\n",
    "1. Make an API call via the Alpaca SDK to get 3 years of historical closing prices for a traditional 60/40 portfolio split: 60% stocks (SPY) and 40% bonds (AGG).\n",
    "\n",
    "2. Run a Monte Carlo simulation of 500 samples and 30 years for the 60/40 portfolio, and then plot the results.The following image shows the overlay line plot resulting from a simulation with these characteristics. However, because a random number generator is used to run each live Monte Carlo simulation, your image will differ slightly from this exact image:\n",
    "\n",
    "![A screenshot depicts the resulting plot.](Images/5-4-monte-carlo-line-plot.png)\n",
    "\n",
    "3. Plot the probability distribution of the Monte Carlo simulation. Plot the probability distribution of the Monte Carlo simulation. The following image shows the histogram plot resulting from a simulation with these characteristics. However, because a random number generator is used to run each live Monte Carlo simulation, your image will differ slightly from this exact image:\n",
    "\n",
    "![A screenshot depicts the histogram plot.](Images/5-4-monte-carlo-histogram.png)\n",
    "\n",
    "4. Generate the summary statistics for the Monte Carlo simulation.\n",
    "\n"
   ]
  },
  {
   "cell_type": "markdown",
   "metadata": {},
   "source": [
    "#### Step 1: Make an API call via the Alpaca SDK to get 3 years of historical closing prices for a traditional 60/40 portfolio split: 60% stocks (SPY) and 40% bonds (AGG)."
   ]
  },
  {
   "cell_type": "code",
   "execution_count": 38,
   "metadata": {},
   "outputs": [],
   "source": [
    "# Set start and end dates of 3 years back from your current date\n",
    "# Alternatively, you can use an end date of 2020-08-07 and work 3 years back from that date \n",
    "start_date = pd.Timestamp(\"2019-12-16\", tz = \"America/New_York\").isoformat()\n",
    "end_date = pd.Timestamp(\"2022-12-16\", tz = \"America/New_York\").isoformat()"
   ]
  },
  {
   "cell_type": "code",
   "execution_count": 41,
   "metadata": {},
   "outputs": [
    {
     "data": {
      "text/html": [
       "<div>\n",
       "<style scoped>\n",
       "    .dataframe tbody tr th:only-of-type {\n",
       "        vertical-align: middle;\n",
       "    }\n",
       "\n",
       "    .dataframe tbody tr th {\n",
       "        vertical-align: top;\n",
       "    }\n",
       "\n",
       "    .dataframe thead tr th {\n",
       "        text-align: left;\n",
       "    }\n",
       "\n",
       "    .dataframe thead tr:last-of-type th {\n",
       "        text-align: right;\n",
       "    }\n",
       "</style>\n",
       "<table border=\"1\" class=\"dataframe\">\n",
       "  <thead>\n",
       "    <tr>\n",
       "      <th></th>\n",
       "      <th colspan=\"7\" halign=\"left\">AGG</th>\n",
       "      <th colspan=\"7\" halign=\"left\">SPY</th>\n",
       "    </tr>\n",
       "    <tr>\n",
       "      <th></th>\n",
       "      <th>open</th>\n",
       "      <th>high</th>\n",
       "      <th>low</th>\n",
       "      <th>close</th>\n",
       "      <th>volume</th>\n",
       "      <th>trade_count</th>\n",
       "      <th>vwap</th>\n",
       "      <th>open</th>\n",
       "      <th>high</th>\n",
       "      <th>low</th>\n",
       "      <th>close</th>\n",
       "      <th>volume</th>\n",
       "      <th>trade_count</th>\n",
       "      <th>vwap</th>\n",
       "    </tr>\n",
       "    <tr>\n",
       "      <th>timestamp</th>\n",
       "      <th></th>\n",
       "      <th></th>\n",
       "      <th></th>\n",
       "      <th></th>\n",
       "      <th></th>\n",
       "      <th></th>\n",
       "      <th></th>\n",
       "      <th></th>\n",
       "      <th></th>\n",
       "      <th></th>\n",
       "      <th></th>\n",
       "      <th></th>\n",
       "      <th></th>\n",
       "      <th></th>\n",
       "    </tr>\n",
       "  </thead>\n",
       "  <tbody>\n",
       "    <tr>\n",
       "      <th>2019-12-16 05:00:00+00:00</th>\n",
       "      <td>112.68</td>\n",
       "      <td>112.6900</td>\n",
       "      <td>112.500</td>\n",
       "      <td>112.58</td>\n",
       "      <td>5012290</td>\n",
       "      <td>12368</td>\n",
       "      <td>112.575966</td>\n",
       "      <td>319.22</td>\n",
       "      <td>320.1500</td>\n",
       "      <td>317.2542</td>\n",
       "      <td>319.4900</td>\n",
       "      <td>82955814</td>\n",
       "      <td>254813</td>\n",
       "      <td>319.450460</td>\n",
       "    </tr>\n",
       "    <tr>\n",
       "      <th>2019-12-17 05:00:00+00:00</th>\n",
       "      <td>112.69</td>\n",
       "      <td>112.7000</td>\n",
       "      <td>112.520</td>\n",
       "      <td>112.59</td>\n",
       "      <td>3016331</td>\n",
       "      <td>10486</td>\n",
       "      <td>112.586888</td>\n",
       "      <td>319.92</td>\n",
       "      <td>320.2500</td>\n",
       "      <td>319.4800</td>\n",
       "      <td>319.5495</td>\n",
       "      <td>61186347</td>\n",
       "      <td>203126</td>\n",
       "      <td>319.698999</td>\n",
       "    </tr>\n",
       "    <tr>\n",
       "      <th>2019-12-18 05:00:00+00:00</th>\n",
       "      <td>112.55</td>\n",
       "      <td>112.5550</td>\n",
       "      <td>112.360</td>\n",
       "      <td>112.37</td>\n",
       "      <td>6563816</td>\n",
       "      <td>14202</td>\n",
       "      <td>112.396296</td>\n",
       "      <td>320.00</td>\n",
       "      <td>320.2500</td>\n",
       "      <td>319.5300</td>\n",
       "      <td>319.5600</td>\n",
       "      <td>49623485</td>\n",
       "      <td>191934</td>\n",
       "      <td>319.809935</td>\n",
       "    </tr>\n",
       "    <tr>\n",
       "      <th>2019-12-19 05:00:00+00:00</th>\n",
       "      <td>112.19</td>\n",
       "      <td>112.3600</td>\n",
       "      <td>112.130</td>\n",
       "      <td>112.30</td>\n",
       "      <td>5736769</td>\n",
       "      <td>14342</td>\n",
       "      <td>112.272637</td>\n",
       "      <td>319.80</td>\n",
       "      <td>320.9800</td>\n",
       "      <td>319.5246</td>\n",
       "      <td>320.8700</td>\n",
       "      <td>86170213</td>\n",
       "      <td>209269</td>\n",
       "      <td>320.413933</td>\n",
       "    </tr>\n",
       "    <tr>\n",
       "      <th>2019-12-20 05:00:00+00:00</th>\n",
       "      <td>112.21</td>\n",
       "      <td>112.3300</td>\n",
       "      <td>112.150</td>\n",
       "      <td>112.32</td>\n",
       "      <td>8809204</td>\n",
       "      <td>15555</td>\n",
       "      <td>112.261101</td>\n",
       "      <td>320.49</td>\n",
       "      <td>321.9742</td>\n",
       "      <td>319.3873</td>\n",
       "      <td>320.8600</td>\n",
       "      <td>155358870</td>\n",
       "      <td>290669</td>\n",
       "      <td>321.049183</td>\n",
       "    </tr>\n",
       "    <tr>\n",
       "      <th>...</th>\n",
       "      <td>...</td>\n",
       "      <td>...</td>\n",
       "      <td>...</td>\n",
       "      <td>...</td>\n",
       "      <td>...</td>\n",
       "      <td>...</td>\n",
       "      <td>...</td>\n",
       "      <td>...</td>\n",
       "      <td>...</td>\n",
       "      <td>...</td>\n",
       "      <td>...</td>\n",
       "      <td>...</td>\n",
       "      <td>...</td>\n",
       "      <td>...</td>\n",
       "    </tr>\n",
       "    <tr>\n",
       "      <th>2022-12-12 05:00:00+00:00</th>\n",
       "      <td>99.19</td>\n",
       "      <td>99.2355</td>\n",
       "      <td>98.630</td>\n",
       "      <td>98.81</td>\n",
       "      <td>9950733</td>\n",
       "      <td>35433</td>\n",
       "      <td>98.841122</td>\n",
       "      <td>394.11</td>\n",
       "      <td>398.9500</td>\n",
       "      <td>393.4120</td>\n",
       "      <td>398.9500</td>\n",
       "      <td>75317792</td>\n",
       "      <td>441574</td>\n",
       "      <td>396.178054</td>\n",
       "    </tr>\n",
       "    <tr>\n",
       "      <th>2022-12-13 05:00:00+00:00</th>\n",
       "      <td>100.18</td>\n",
       "      <td>100.1800</td>\n",
       "      <td>99.400</td>\n",
       "      <td>99.47</td>\n",
       "      <td>9084743</td>\n",
       "      <td>32368</td>\n",
       "      <td>99.635621</td>\n",
       "      <td>410.22</td>\n",
       "      <td>410.4900</td>\n",
       "      <td>399.0700</td>\n",
       "      <td>401.9700</td>\n",
       "      <td>123026229</td>\n",
       "      <td>887537</td>\n",
       "      <td>403.567729</td>\n",
       "    </tr>\n",
       "    <tr>\n",
       "      <th>2022-12-14 05:00:00+00:00</th>\n",
       "      <td>99.52</td>\n",
       "      <td>99.7900</td>\n",
       "      <td>99.170</td>\n",
       "      <td>99.69</td>\n",
       "      <td>10547793</td>\n",
       "      <td>38134</td>\n",
       "      <td>99.559170</td>\n",
       "      <td>401.61</td>\n",
       "      <td>405.5000</td>\n",
       "      <td>396.3100</td>\n",
       "      <td>399.4000</td>\n",
       "      <td>105972841</td>\n",
       "      <td>832838</td>\n",
       "      <td>401.141910</td>\n",
       "    </tr>\n",
       "    <tr>\n",
       "      <th>2022-12-15 05:00:00+00:00</th>\n",
       "      <td>99.57</td>\n",
       "      <td>99.7000</td>\n",
       "      <td>99.365</td>\n",
       "      <td>99.61</td>\n",
       "      <td>9403236</td>\n",
       "      <td>34245</td>\n",
       "      <td>99.560683</td>\n",
       "      <td>394.30</td>\n",
       "      <td>395.2500</td>\n",
       "      <td>387.8850</td>\n",
       "      <td>389.6300</td>\n",
       "      <td>114610214</td>\n",
       "      <td>848171</td>\n",
       "      <td>390.925060</td>\n",
       "    </tr>\n",
       "    <tr>\n",
       "      <th>2022-12-16 05:00:00+00:00</th>\n",
       "      <td>98.96</td>\n",
       "      <td>99.5200</td>\n",
       "      <td>98.940</td>\n",
       "      <td>99.35</td>\n",
       "      <td>7413804</td>\n",
       "      <td>25976</td>\n",
       "      <td>99.324408</td>\n",
       "      <td>385.18</td>\n",
       "      <td>386.5750</td>\n",
       "      <td>381.0400</td>\n",
       "      <td>383.2700</td>\n",
       "      <td>119265226</td>\n",
       "      <td>743779</td>\n",
       "      <td>383.743817</td>\n",
       "    </tr>\n",
       "  </tbody>\n",
       "</table>\n",
       "<p>758 rows × 14 columns</p>\n",
       "</div>"
      ],
      "text/plain": [
       "                              AGG                                       \\\n",
       "                             open      high      low   close    volume   \n",
       "timestamp                                                                \n",
       "2019-12-16 05:00:00+00:00  112.68  112.6900  112.500  112.58   5012290   \n",
       "2019-12-17 05:00:00+00:00  112.69  112.7000  112.520  112.59   3016331   \n",
       "2019-12-18 05:00:00+00:00  112.55  112.5550  112.360  112.37   6563816   \n",
       "2019-12-19 05:00:00+00:00  112.19  112.3600  112.130  112.30   5736769   \n",
       "2019-12-20 05:00:00+00:00  112.21  112.3300  112.150  112.32   8809204   \n",
       "...                           ...       ...      ...     ...       ...   \n",
       "2022-12-12 05:00:00+00:00   99.19   99.2355   98.630   98.81   9950733   \n",
       "2022-12-13 05:00:00+00:00  100.18  100.1800   99.400   99.47   9084743   \n",
       "2022-12-14 05:00:00+00:00   99.52   99.7900   99.170   99.69  10547793   \n",
       "2022-12-15 05:00:00+00:00   99.57   99.7000   99.365   99.61   9403236   \n",
       "2022-12-16 05:00:00+00:00   98.96   99.5200   98.940   99.35   7413804   \n",
       "\n",
       "                                                      SPY                      \\\n",
       "                          trade_count        vwap    open      high       low   \n",
       "timestamp                                                                       \n",
       "2019-12-16 05:00:00+00:00       12368  112.575966  319.22  320.1500  317.2542   \n",
       "2019-12-17 05:00:00+00:00       10486  112.586888  319.92  320.2500  319.4800   \n",
       "2019-12-18 05:00:00+00:00       14202  112.396296  320.00  320.2500  319.5300   \n",
       "2019-12-19 05:00:00+00:00       14342  112.272637  319.80  320.9800  319.5246   \n",
       "2019-12-20 05:00:00+00:00       15555  112.261101  320.49  321.9742  319.3873   \n",
       "...                               ...         ...     ...       ...       ...   \n",
       "2022-12-12 05:00:00+00:00       35433   98.841122  394.11  398.9500  393.4120   \n",
       "2022-12-13 05:00:00+00:00       32368   99.635621  410.22  410.4900  399.0700   \n",
       "2022-12-14 05:00:00+00:00       38134   99.559170  401.61  405.5000  396.3100   \n",
       "2022-12-15 05:00:00+00:00       34245   99.560683  394.30  395.2500  387.8850   \n",
       "2022-12-16 05:00:00+00:00       25976   99.324408  385.18  386.5750  381.0400   \n",
       "\n",
       "                                                                        \n",
       "                              close     volume trade_count        vwap  \n",
       "timestamp                                                               \n",
       "2019-12-16 05:00:00+00:00  319.4900   82955814      254813  319.450460  \n",
       "2019-12-17 05:00:00+00:00  319.5495   61186347      203126  319.698999  \n",
       "2019-12-18 05:00:00+00:00  319.5600   49623485      191934  319.809935  \n",
       "2019-12-19 05:00:00+00:00  320.8700   86170213      209269  320.413933  \n",
       "2019-12-20 05:00:00+00:00  320.8600  155358870      290669  321.049183  \n",
       "...                             ...        ...         ...         ...  \n",
       "2022-12-12 05:00:00+00:00  398.9500   75317792      441574  396.178054  \n",
       "2022-12-13 05:00:00+00:00  401.9700  123026229      887537  403.567729  \n",
       "2022-12-14 05:00:00+00:00  399.4000  105972841      832838  401.141910  \n",
       "2022-12-15 05:00:00+00:00  389.6300  114610214      848171  390.925060  \n",
       "2022-12-16 05:00:00+00:00  383.2700  119265226      743779  383.743817  \n",
       "\n",
       "[758 rows x 14 columns]"
      ]
     },
     "execution_count": 41,
     "metadata": {},
     "output_type": "execute_result"
    }
   ],
   "source": [
    "# Use the Alpaca get_bars function to make the API call to get the 3 years worth of pricing data\n",
    "# The tickers and timeframe parameters should have been set in Part 1 of this activity \n",
    "# The start and end dates should be updated with the information set above\n",
    "# Remember to add the df property to the end of the call so the response is returned as a DataFrame\n",
    "portfolio_df = alpaca.get_bars(tickers, timeframe, start = start_date, end = end_date).df\n",
    "\n",
    "# Reorganize the DataFrame\n",
    "# Separate ticker data\n",
    "AGG = portfolio_df[portfolio_df['symbol'] == 'AGG'].drop('symbol', axis = 1)\n",
    "SPY = portfolio_df[portfolio_df['symbol'] == 'SPY'].drop('symbol', axis = 1)\n",
    "\n",
    "# Concatenate the ticker DataFrames\n",
    "portfolio_df = pd.concat([AGG, SPY], axis = 1, keys = ['AGG', 'SPY'])\n",
    "\n",
    "# Display both the first and last five rows of the DataFrame\n",
    "portfolio_df\n"
   ]
  },
  {
   "cell_type": "markdown",
   "metadata": {},
   "source": [
    "#### Step 2: Run a Monte Carlo simulation of 500 samples and 30 years for the 60/40 portfolio, and then plot the results."
   ]
  },
  {
   "cell_type": "code",
   "execution_count": 42,
   "metadata": {},
   "outputs": [
    {
     "data": {
      "text/html": [
       "<div>\n",
       "<style scoped>\n",
       "    .dataframe tbody tr th:only-of-type {\n",
       "        vertical-align: middle;\n",
       "    }\n",
       "\n",
       "    .dataframe tbody tr th {\n",
       "        vertical-align: top;\n",
       "    }\n",
       "\n",
       "    .dataframe thead tr th {\n",
       "        text-align: left;\n",
       "    }\n",
       "\n",
       "    .dataframe thead tr:last-of-type th {\n",
       "        text-align: right;\n",
       "    }\n",
       "</style>\n",
       "<table border=\"1\" class=\"dataframe\">\n",
       "  <thead>\n",
       "    <tr>\n",
       "      <th></th>\n",
       "      <th colspan=\"8\" halign=\"left\">AGG</th>\n",
       "      <th colspan=\"8\" halign=\"left\">SPY</th>\n",
       "    </tr>\n",
       "    <tr>\n",
       "      <th></th>\n",
       "      <th>open</th>\n",
       "      <th>high</th>\n",
       "      <th>low</th>\n",
       "      <th>close</th>\n",
       "      <th>volume</th>\n",
       "      <th>trade_count</th>\n",
       "      <th>vwap</th>\n",
       "      <th>daily_return</th>\n",
       "      <th>open</th>\n",
       "      <th>high</th>\n",
       "      <th>low</th>\n",
       "      <th>close</th>\n",
       "      <th>volume</th>\n",
       "      <th>trade_count</th>\n",
       "      <th>vwap</th>\n",
       "      <th>daily_return</th>\n",
       "    </tr>\n",
       "    <tr>\n",
       "      <th>timestamp</th>\n",
       "      <th></th>\n",
       "      <th></th>\n",
       "      <th></th>\n",
       "      <th></th>\n",
       "      <th></th>\n",
       "      <th></th>\n",
       "      <th></th>\n",
       "      <th></th>\n",
       "      <th></th>\n",
       "      <th></th>\n",
       "      <th></th>\n",
       "      <th></th>\n",
       "      <th></th>\n",
       "      <th></th>\n",
       "      <th></th>\n",
       "      <th></th>\n",
       "    </tr>\n",
       "  </thead>\n",
       "  <tbody>\n",
       "    <tr>\n",
       "      <th>2019-12-16 05:00:00+00:00</th>\n",
       "      <td>112.68</td>\n",
       "      <td>112.690</td>\n",
       "      <td>112.50</td>\n",
       "      <td>112.58</td>\n",
       "      <td>5012290</td>\n",
       "      <td>12368</td>\n",
       "      <td>112.575966</td>\n",
       "      <td>NaN</td>\n",
       "      <td>319.22</td>\n",
       "      <td>320.1500</td>\n",
       "      <td>317.2542</td>\n",
       "      <td>319.4900</td>\n",
       "      <td>82955814</td>\n",
       "      <td>254813</td>\n",
       "      <td>319.450460</td>\n",
       "      <td>NaN</td>\n",
       "    </tr>\n",
       "    <tr>\n",
       "      <th>2019-12-17 05:00:00+00:00</th>\n",
       "      <td>112.69</td>\n",
       "      <td>112.700</td>\n",
       "      <td>112.52</td>\n",
       "      <td>112.59</td>\n",
       "      <td>3016331</td>\n",
       "      <td>10486</td>\n",
       "      <td>112.586888</td>\n",
       "      <td>0.000089</td>\n",
       "      <td>319.92</td>\n",
       "      <td>320.2500</td>\n",
       "      <td>319.4800</td>\n",
       "      <td>319.5495</td>\n",
       "      <td>61186347</td>\n",
       "      <td>203126</td>\n",
       "      <td>319.698999</td>\n",
       "      <td>0.000186</td>\n",
       "    </tr>\n",
       "    <tr>\n",
       "      <th>2019-12-18 05:00:00+00:00</th>\n",
       "      <td>112.55</td>\n",
       "      <td>112.555</td>\n",
       "      <td>112.36</td>\n",
       "      <td>112.37</td>\n",
       "      <td>6563816</td>\n",
       "      <td>14202</td>\n",
       "      <td>112.396296</td>\n",
       "      <td>-0.001954</td>\n",
       "      <td>320.00</td>\n",
       "      <td>320.2500</td>\n",
       "      <td>319.5300</td>\n",
       "      <td>319.5600</td>\n",
       "      <td>49623485</td>\n",
       "      <td>191934</td>\n",
       "      <td>319.809935</td>\n",
       "      <td>0.000033</td>\n",
       "    </tr>\n",
       "    <tr>\n",
       "      <th>2019-12-19 05:00:00+00:00</th>\n",
       "      <td>112.19</td>\n",
       "      <td>112.360</td>\n",
       "      <td>112.13</td>\n",
       "      <td>112.30</td>\n",
       "      <td>5736769</td>\n",
       "      <td>14342</td>\n",
       "      <td>112.272637</td>\n",
       "      <td>-0.000623</td>\n",
       "      <td>319.80</td>\n",
       "      <td>320.9800</td>\n",
       "      <td>319.5246</td>\n",
       "      <td>320.8700</td>\n",
       "      <td>86170213</td>\n",
       "      <td>209269</td>\n",
       "      <td>320.413933</td>\n",
       "      <td>0.004099</td>\n",
       "    </tr>\n",
       "    <tr>\n",
       "      <th>2019-12-20 05:00:00+00:00</th>\n",
       "      <td>112.21</td>\n",
       "      <td>112.330</td>\n",
       "      <td>112.15</td>\n",
       "      <td>112.32</td>\n",
       "      <td>8809204</td>\n",
       "      <td>15555</td>\n",
       "      <td>112.261101</td>\n",
       "      <td>0.000178</td>\n",
       "      <td>320.49</td>\n",
       "      <td>321.9742</td>\n",
       "      <td>319.3873</td>\n",
       "      <td>320.8600</td>\n",
       "      <td>155358870</td>\n",
       "      <td>290669</td>\n",
       "      <td>321.049183</td>\n",
       "      <td>-0.000031</td>\n",
       "    </tr>\n",
       "  </tbody>\n",
       "</table>\n",
       "</div>"
      ],
      "text/plain": [
       "                              AGG                                    \\\n",
       "                             open     high     low   close   volume   \n",
       "timestamp                                                             \n",
       "2019-12-16 05:00:00+00:00  112.68  112.690  112.50  112.58  5012290   \n",
       "2019-12-17 05:00:00+00:00  112.69  112.700  112.52  112.59  3016331   \n",
       "2019-12-18 05:00:00+00:00  112.55  112.555  112.36  112.37  6563816   \n",
       "2019-12-19 05:00:00+00:00  112.19  112.360  112.13  112.30  5736769   \n",
       "2019-12-20 05:00:00+00:00  112.21  112.330  112.15  112.32  8809204   \n",
       "\n",
       "                                                                   SPY  \\\n",
       "                          trade_count        vwap daily_return    open   \n",
       "timestamp                                                                \n",
       "2019-12-16 05:00:00+00:00       12368  112.575966          NaN  319.22   \n",
       "2019-12-17 05:00:00+00:00       10486  112.586888     0.000089  319.92   \n",
       "2019-12-18 05:00:00+00:00       14202  112.396296    -0.001954  320.00   \n",
       "2019-12-19 05:00:00+00:00       14342  112.272637    -0.000623  319.80   \n",
       "2019-12-20 05:00:00+00:00       15555  112.261101     0.000178  320.49   \n",
       "\n",
       "                                                                    \\\n",
       "                               high       low     close     volume   \n",
       "timestamp                                                            \n",
       "2019-12-16 05:00:00+00:00  320.1500  317.2542  319.4900   82955814   \n",
       "2019-12-17 05:00:00+00:00  320.2500  319.4800  319.5495   61186347   \n",
       "2019-12-18 05:00:00+00:00  320.2500  319.5300  319.5600   49623485   \n",
       "2019-12-19 05:00:00+00:00  320.9800  319.5246  320.8700   86170213   \n",
       "2019-12-20 05:00:00+00:00  321.9742  319.3873  320.8600  155358870   \n",
       "\n",
       "                                                                \n",
       "                          trade_count        vwap daily_return  \n",
       "timestamp                                                       \n",
       "2019-12-16 05:00:00+00:00      254813  319.450460          NaN  \n",
       "2019-12-17 05:00:00+00:00      203126  319.698999     0.000186  \n",
       "2019-12-18 05:00:00+00:00      191934  319.809935     0.000033  \n",
       "2019-12-19 05:00:00+00:00      209269  320.413933     0.004099  \n",
       "2019-12-20 05:00:00+00:00      290669  321.049183    -0.000031  "
      ]
     },
     "execution_count": 42,
     "metadata": {},
     "output_type": "execute_result"
    }
   ],
   "source": [
    "# Configure the Monte Carlo simulation to forecast 30 years cumulative returns\n",
    "# The weights should be split 40% to AGG and 60% to SPY.\n",
    "# Run 500 samples.\n",
    "MC_thirty_year = MCSimulation(portfolio_data = portfolio_df, weights = [0.40, 0.60], num_simulation = 500, num_trading_days = 252 * 30)\n",
    "\n",
    "# Review the simulation input data\n",
    "MC_thirty_year.portfolio_data.head()\n"
   ]
  },
  {
   "cell_type": "code",
   "execution_count": 43,
   "metadata": {},
   "outputs": [
    {
     "name": "stdout",
     "output_type": "stream",
     "text": [
      "Running Monte Carlo simulation number 0.\n",
      "Running Monte Carlo simulation number 10.\n",
      "Running Monte Carlo simulation number 20.\n",
      "Running Monte Carlo simulation number 30.\n",
      "Running Monte Carlo simulation number 40.\n",
      "Running Monte Carlo simulation number 50.\n",
      "Running Monte Carlo simulation number 60.\n",
      "Running Monte Carlo simulation number 70.\n",
      "Running Monte Carlo simulation number 80.\n",
      "Running Monte Carlo simulation number 90.\n",
      "Running Monte Carlo simulation number 100.\n"
     ]
    },
    {
     "name": "stderr",
     "output_type": "stream",
     "text": [
      "C:\\Users\\olgao\\OneDrive\\Desktop\\challenge_5\\Financial_Planning_Tools\\MCForecastTools.py:117: PerformanceWarning: DataFrame is highly fragmented.  This is usually the result of calling `frame.insert` many times, which has poor performance.  Consider joining all columns at once using pd.concat(axis=1) instead.  To get a de-fragmented frame, use `newframe = frame.copy()`\n",
      "  portfolio_cumulative_returns[n] = (1 + sim_df.fillna(0)).cumprod()\n"
     ]
    },
    {
     "name": "stdout",
     "output_type": "stream",
     "text": [
      "Running Monte Carlo simulation number 110.\n",
      "Running Monte Carlo simulation number 120.\n",
      "Running Monte Carlo simulation number 130.\n",
      "Running Monte Carlo simulation number 140.\n",
      "Running Monte Carlo simulation number 150.\n",
      "Running Monte Carlo simulation number 160.\n",
      "Running Monte Carlo simulation number 170.\n",
      "Running Monte Carlo simulation number 180.\n",
      "Running Monte Carlo simulation number 190.\n",
      "Running Monte Carlo simulation number 200.\n",
      "Running Monte Carlo simulation number 210.\n",
      "Running Monte Carlo simulation number 220.\n",
      "Running Monte Carlo simulation number 230.\n",
      "Running Monte Carlo simulation number 240.\n",
      "Running Monte Carlo simulation number 250.\n",
      "Running Monte Carlo simulation number 260.\n",
      "Running Monte Carlo simulation number 270.\n",
      "Running Monte Carlo simulation number 280.\n",
      "Running Monte Carlo simulation number 290.\n",
      "Running Monte Carlo simulation number 300.\n",
      "Running Monte Carlo simulation number 310.\n",
      "Running Monte Carlo simulation number 320.\n",
      "Running Monte Carlo simulation number 330.\n",
      "Running Monte Carlo simulation number 340.\n",
      "Running Monte Carlo simulation number 350.\n",
      "Running Monte Carlo simulation number 360.\n",
      "Running Monte Carlo simulation number 370.\n",
      "Running Monte Carlo simulation number 380.\n",
      "Running Monte Carlo simulation number 390.\n",
      "Running Monte Carlo simulation number 400.\n",
      "Running Monte Carlo simulation number 410.\n",
      "Running Monte Carlo simulation number 420.\n",
      "Running Monte Carlo simulation number 430.\n",
      "Running Monte Carlo simulation number 440.\n",
      "Running Monte Carlo simulation number 450.\n",
      "Running Monte Carlo simulation number 460.\n",
      "Running Monte Carlo simulation number 470.\n",
      "Running Monte Carlo simulation number 480.\n",
      "Running Monte Carlo simulation number 490.\n"
     ]
    },
    {
     "data": {
      "text/html": [
       "<div>\n",
       "<style scoped>\n",
       "    .dataframe tbody tr th:only-of-type {\n",
       "        vertical-align: middle;\n",
       "    }\n",
       "\n",
       "    .dataframe tbody tr th {\n",
       "        vertical-align: top;\n",
       "    }\n",
       "\n",
       "    .dataframe thead th {\n",
       "        text-align: right;\n",
       "    }\n",
       "</style>\n",
       "<table border=\"1\" class=\"dataframe\">\n",
       "  <thead>\n",
       "    <tr style=\"text-align: right;\">\n",
       "      <th></th>\n",
       "      <th>0</th>\n",
       "      <th>1</th>\n",
       "      <th>2</th>\n",
       "      <th>3</th>\n",
       "      <th>4</th>\n",
       "      <th>5</th>\n",
       "      <th>6</th>\n",
       "      <th>7</th>\n",
       "      <th>8</th>\n",
       "      <th>9</th>\n",
       "      <th>...</th>\n",
       "      <th>490</th>\n",
       "      <th>491</th>\n",
       "      <th>492</th>\n",
       "      <th>493</th>\n",
       "      <th>494</th>\n",
       "      <th>495</th>\n",
       "      <th>496</th>\n",
       "      <th>497</th>\n",
       "      <th>498</th>\n",
       "      <th>499</th>\n",
       "    </tr>\n",
       "  </thead>\n",
       "  <tbody>\n",
       "    <tr>\n",
       "      <th>0</th>\n",
       "      <td>1.000000</td>\n",
       "      <td>1.000000</td>\n",
       "      <td>1.000000</td>\n",
       "      <td>1.000000</td>\n",
       "      <td>1.000000</td>\n",
       "      <td>1.000000</td>\n",
       "      <td>1.000000</td>\n",
       "      <td>1.000000</td>\n",
       "      <td>1.000000</td>\n",
       "      <td>1.000000</td>\n",
       "      <td>...</td>\n",
       "      <td>1.000000</td>\n",
       "      <td>1.000000</td>\n",
       "      <td>1.000000</td>\n",
       "      <td>1.000000</td>\n",
       "      <td>1.000000</td>\n",
       "      <td>1.000000</td>\n",
       "      <td>1.000000</td>\n",
       "      <td>1.000000</td>\n",
       "      <td>1.000000</td>\n",
       "      <td>1.000000</td>\n",
       "    </tr>\n",
       "    <tr>\n",
       "      <th>1</th>\n",
       "      <td>0.994737</td>\n",
       "      <td>1.000542</td>\n",
       "      <td>0.995383</td>\n",
       "      <td>1.008521</td>\n",
       "      <td>0.990583</td>\n",
       "      <td>0.999864</td>\n",
       "      <td>0.988229</td>\n",
       "      <td>0.992334</td>\n",
       "      <td>0.986768</td>\n",
       "      <td>0.989957</td>\n",
       "      <td>...</td>\n",
       "      <td>1.006239</td>\n",
       "      <td>1.018510</td>\n",
       "      <td>1.000832</td>\n",
       "      <td>1.000519</td>\n",
       "      <td>1.012707</td>\n",
       "      <td>1.011600</td>\n",
       "      <td>0.986336</td>\n",
       "      <td>1.005566</td>\n",
       "      <td>1.002403</td>\n",
       "      <td>1.016283</td>\n",
       "    </tr>\n",
       "    <tr>\n",
       "      <th>2</th>\n",
       "      <td>0.999614</td>\n",
       "      <td>1.008871</td>\n",
       "      <td>0.981375</td>\n",
       "      <td>1.004037</td>\n",
       "      <td>0.987716</td>\n",
       "      <td>1.015819</td>\n",
       "      <td>0.979508</td>\n",
       "      <td>0.992883</td>\n",
       "      <td>1.009079</td>\n",
       "      <td>0.993085</td>\n",
       "      <td>...</td>\n",
       "      <td>1.016597</td>\n",
       "      <td>0.988897</td>\n",
       "      <td>1.012025</td>\n",
       "      <td>0.986177</td>\n",
       "      <td>1.000242</td>\n",
       "      <td>1.013378</td>\n",
       "      <td>0.986737</td>\n",
       "      <td>1.006493</td>\n",
       "      <td>0.989053</td>\n",
       "      <td>1.001467</td>\n",
       "    </tr>\n",
       "    <tr>\n",
       "      <th>3</th>\n",
       "      <td>1.005966</td>\n",
       "      <td>1.010849</td>\n",
       "      <td>0.984089</td>\n",
       "      <td>1.004385</td>\n",
       "      <td>0.982073</td>\n",
       "      <td>1.008327</td>\n",
       "      <td>0.977019</td>\n",
       "      <td>0.990481</td>\n",
       "      <td>1.006106</td>\n",
       "      <td>0.990392</td>\n",
       "      <td>...</td>\n",
       "      <td>1.018867</td>\n",
       "      <td>0.986862</td>\n",
       "      <td>1.021299</td>\n",
       "      <td>0.988161</td>\n",
       "      <td>0.998690</td>\n",
       "      <td>1.022555</td>\n",
       "      <td>0.999993</td>\n",
       "      <td>1.008015</td>\n",
       "      <td>0.969087</td>\n",
       "      <td>1.006633</td>\n",
       "    </tr>\n",
       "    <tr>\n",
       "      <th>4</th>\n",
       "      <td>0.996741</td>\n",
       "      <td>1.000011</td>\n",
       "      <td>0.972921</td>\n",
       "      <td>0.999026</td>\n",
       "      <td>0.976840</td>\n",
       "      <td>1.012401</td>\n",
       "      <td>0.978855</td>\n",
       "      <td>0.995187</td>\n",
       "      <td>0.985132</td>\n",
       "      <td>1.019156</td>\n",
       "      <td>...</td>\n",
       "      <td>1.014820</td>\n",
       "      <td>0.984095</td>\n",
       "      <td>1.022448</td>\n",
       "      <td>0.987677</td>\n",
       "      <td>0.987344</td>\n",
       "      <td>1.037672</td>\n",
       "      <td>0.998658</td>\n",
       "      <td>1.019682</td>\n",
       "      <td>0.965982</td>\n",
       "      <td>1.018362</td>\n",
       "    </tr>\n",
       "    <tr>\n",
       "      <th>...</th>\n",
       "      <td>...</td>\n",
       "      <td>...</td>\n",
       "      <td>...</td>\n",
       "      <td>...</td>\n",
       "      <td>...</td>\n",
       "      <td>...</td>\n",
       "      <td>...</td>\n",
       "      <td>...</td>\n",
       "      <td>...</td>\n",
       "      <td>...</td>\n",
       "      <td>...</td>\n",
       "      <td>...</td>\n",
       "      <td>...</td>\n",
       "      <td>...</td>\n",
       "      <td>...</td>\n",
       "      <td>...</td>\n",
       "      <td>...</td>\n",
       "      <td>...</td>\n",
       "      <td>...</td>\n",
       "      <td>...</td>\n",
       "      <td>...</td>\n",
       "    </tr>\n",
       "    <tr>\n",
       "      <th>7556</th>\n",
       "      <td>0.350071</td>\n",
       "      <td>7.267138</td>\n",
       "      <td>1.199681</td>\n",
       "      <td>3.959985</td>\n",
       "      <td>1.973720</td>\n",
       "      <td>0.391499</td>\n",
       "      <td>2.827890</td>\n",
       "      <td>3.061616</td>\n",
       "      <td>0.605766</td>\n",
       "      <td>1.341071</td>\n",
       "      <td>...</td>\n",
       "      <td>0.240339</td>\n",
       "      <td>1.396141</td>\n",
       "      <td>6.364711</td>\n",
       "      <td>0.972963</td>\n",
       "      <td>2.323722</td>\n",
       "      <td>2.683184</td>\n",
       "      <td>4.851144</td>\n",
       "      <td>10.553985</td>\n",
       "      <td>1.224097</td>\n",
       "      <td>1.810055</td>\n",
       "    </tr>\n",
       "    <tr>\n",
       "      <th>7557</th>\n",
       "      <td>0.353079</td>\n",
       "      <td>7.278580</td>\n",
       "      <td>1.199459</td>\n",
       "      <td>3.956656</td>\n",
       "      <td>1.978497</td>\n",
       "      <td>0.389313</td>\n",
       "      <td>2.846861</td>\n",
       "      <td>3.074496</td>\n",
       "      <td>0.608746</td>\n",
       "      <td>1.335001</td>\n",
       "      <td>...</td>\n",
       "      <td>0.237201</td>\n",
       "      <td>1.399256</td>\n",
       "      <td>6.348506</td>\n",
       "      <td>0.978888</td>\n",
       "      <td>2.326812</td>\n",
       "      <td>2.704969</td>\n",
       "      <td>4.809096</td>\n",
       "      <td>10.640427</td>\n",
       "      <td>1.236702</td>\n",
       "      <td>1.814090</td>\n",
       "    </tr>\n",
       "    <tr>\n",
       "      <th>7558</th>\n",
       "      <td>0.357778</td>\n",
       "      <td>7.177968</td>\n",
       "      <td>1.192803</td>\n",
       "      <td>3.970833</td>\n",
       "      <td>1.988931</td>\n",
       "      <td>0.385390</td>\n",
       "      <td>2.836075</td>\n",
       "      <td>3.054182</td>\n",
       "      <td>0.600279</td>\n",
       "      <td>1.367271</td>\n",
       "      <td>...</td>\n",
       "      <td>0.237419</td>\n",
       "      <td>1.391117</td>\n",
       "      <td>6.350243</td>\n",
       "      <td>0.977860</td>\n",
       "      <td>2.341338</td>\n",
       "      <td>2.748777</td>\n",
       "      <td>4.803014</td>\n",
       "      <td>10.601721</td>\n",
       "      <td>1.233584</td>\n",
       "      <td>1.799239</td>\n",
       "    </tr>\n",
       "    <tr>\n",
       "      <th>7559</th>\n",
       "      <td>0.362442</td>\n",
       "      <td>7.138920</td>\n",
       "      <td>1.193555</td>\n",
       "      <td>3.954977</td>\n",
       "      <td>1.989273</td>\n",
       "      <td>0.379825</td>\n",
       "      <td>2.855742</td>\n",
       "      <td>3.036056</td>\n",
       "      <td>0.608737</td>\n",
       "      <td>1.367235</td>\n",
       "      <td>...</td>\n",
       "      <td>0.236554</td>\n",
       "      <td>1.375695</td>\n",
       "      <td>6.411097</td>\n",
       "      <td>0.970340</td>\n",
       "      <td>2.337791</td>\n",
       "      <td>2.759148</td>\n",
       "      <td>4.682038</td>\n",
       "      <td>10.541333</td>\n",
       "      <td>1.234069</td>\n",
       "      <td>1.805362</td>\n",
       "    </tr>\n",
       "    <tr>\n",
       "      <th>7560</th>\n",
       "      <td>0.364352</td>\n",
       "      <td>7.189308</td>\n",
       "      <td>1.189894</td>\n",
       "      <td>3.970439</td>\n",
       "      <td>2.008500</td>\n",
       "      <td>0.382565</td>\n",
       "      <td>2.881768</td>\n",
       "      <td>3.071283</td>\n",
       "      <td>0.601737</td>\n",
       "      <td>1.377045</td>\n",
       "      <td>...</td>\n",
       "      <td>0.240136</td>\n",
       "      <td>1.372716</td>\n",
       "      <td>6.388991</td>\n",
       "      <td>0.955188</td>\n",
       "      <td>2.356769</td>\n",
       "      <td>2.733858</td>\n",
       "      <td>4.697087</td>\n",
       "      <td>10.597193</td>\n",
       "      <td>1.234607</td>\n",
       "      <td>1.793230</td>\n",
       "    </tr>\n",
       "  </tbody>\n",
       "</table>\n",
       "<p>7561 rows × 500 columns</p>\n",
       "</div>"
      ],
      "text/plain": [
       "           0         1         2         3         4         5         6    \\\n",
       "0     1.000000  1.000000  1.000000  1.000000  1.000000  1.000000  1.000000   \n",
       "1     0.994737  1.000542  0.995383  1.008521  0.990583  0.999864  0.988229   \n",
       "2     0.999614  1.008871  0.981375  1.004037  0.987716  1.015819  0.979508   \n",
       "3     1.005966  1.010849  0.984089  1.004385  0.982073  1.008327  0.977019   \n",
       "4     0.996741  1.000011  0.972921  0.999026  0.976840  1.012401  0.978855   \n",
       "...        ...       ...       ...       ...       ...       ...       ...   \n",
       "7556  0.350071  7.267138  1.199681  3.959985  1.973720  0.391499  2.827890   \n",
       "7557  0.353079  7.278580  1.199459  3.956656  1.978497  0.389313  2.846861   \n",
       "7558  0.357778  7.177968  1.192803  3.970833  1.988931  0.385390  2.836075   \n",
       "7559  0.362442  7.138920  1.193555  3.954977  1.989273  0.379825  2.855742   \n",
       "7560  0.364352  7.189308  1.189894  3.970439  2.008500  0.382565  2.881768   \n",
       "\n",
       "           7         8         9    ...       490       491       492  \\\n",
       "0     1.000000  1.000000  1.000000  ...  1.000000  1.000000  1.000000   \n",
       "1     0.992334  0.986768  0.989957  ...  1.006239  1.018510  1.000832   \n",
       "2     0.992883  1.009079  0.993085  ...  1.016597  0.988897  1.012025   \n",
       "3     0.990481  1.006106  0.990392  ...  1.018867  0.986862  1.021299   \n",
       "4     0.995187  0.985132  1.019156  ...  1.014820  0.984095  1.022448   \n",
       "...        ...       ...       ...  ...       ...       ...       ...   \n",
       "7556  3.061616  0.605766  1.341071  ...  0.240339  1.396141  6.364711   \n",
       "7557  3.074496  0.608746  1.335001  ...  0.237201  1.399256  6.348506   \n",
       "7558  3.054182  0.600279  1.367271  ...  0.237419  1.391117  6.350243   \n",
       "7559  3.036056  0.608737  1.367235  ...  0.236554  1.375695  6.411097   \n",
       "7560  3.071283  0.601737  1.377045  ...  0.240136  1.372716  6.388991   \n",
       "\n",
       "           493       494       495       496        497       498       499  \n",
       "0     1.000000  1.000000  1.000000  1.000000   1.000000  1.000000  1.000000  \n",
       "1     1.000519  1.012707  1.011600  0.986336   1.005566  1.002403  1.016283  \n",
       "2     0.986177  1.000242  1.013378  0.986737   1.006493  0.989053  1.001467  \n",
       "3     0.988161  0.998690  1.022555  0.999993   1.008015  0.969087  1.006633  \n",
       "4     0.987677  0.987344  1.037672  0.998658   1.019682  0.965982  1.018362  \n",
       "...        ...       ...       ...       ...        ...       ...       ...  \n",
       "7556  0.972963  2.323722  2.683184  4.851144  10.553985  1.224097  1.810055  \n",
       "7557  0.978888  2.326812  2.704969  4.809096  10.640427  1.236702  1.814090  \n",
       "7558  0.977860  2.341338  2.748777  4.803014  10.601721  1.233584  1.799239  \n",
       "7559  0.970340  2.337791  2.759148  4.682038  10.541333  1.234069  1.805362  \n",
       "7560  0.955188  2.356769  2.733858  4.697087  10.597193  1.234607  1.793230  \n",
       "\n",
       "[7561 rows x 500 columns]"
      ]
     },
     "execution_count": 43,
     "metadata": {},
     "output_type": "execute_result"
    }
   ],
   "source": [
    "# Run the Monte Carlo simulation to forecast 30 years cumulative returns\n",
    "MC_thirty_year.calc_cumulative_return()\n"
   ]
  },
  {
   "cell_type": "code",
   "execution_count": 44,
   "metadata": {},
   "outputs": [
    {
     "data": {
      "text/plain": [
       "<AxesSubplot:title={'center':'500 Simulations of Cumulative Portfolio Return Trajectories Over the Next 7560 Trading Days.'}>"
      ]
     },
     "execution_count": 44,
     "metadata": {},
     "output_type": "execute_result"
    },
    {
     "data": {
      "image/png": "[encoded data removed]",
      "text/plain": [
       "<Figure size 640x480 with 1 Axes>"
      ]
     },
     "metadata": {},
     "output_type": "display_data"
    }
   ],
   "source": [
    "# Visualize the 30-year Monte Carlo simulation by creating an\n",
    "# overlay line plot\n",
    "MC_thirty_year.plot_simulation()\n"
   ]
  },
  {
   "cell_type": "markdown",
   "metadata": {},
   "source": [
    "#### Step 3: Plot the probability distribution of the Monte Carlo simulation."
   ]
  },
  {
   "cell_type": "code",
   "execution_count": 45,
   "metadata": {},
   "outputs": [
    {
     "data": {
      "text/plain": [
       "<AxesSubplot:title={'center':'Distribution of Final Cumuluative Returns Across All 500 Simulations'}, ylabel='Frequency'>"
      ]
     },
     "execution_count": 45,
     "metadata": {},
     "output_type": "execute_result"
    },
    {
     "data": {
      "image/png": "[encoded data removed]",
      "text/plain": [
       "<Figure size 640x480 with 1 Axes>"
      ]
     },
     "metadata": {},
     "output_type": "display_data"
    }
   ],
   "source": [
    "# Visualize the probability distribution of the 30-year Monte Carlo simulation \n",
    "# by plotting a histogram\n",
    "MC_thirty_year.plot_distribution()\n"
   ]
  },
  {
   "cell_type": "markdown",
   "metadata": {},
   "source": [
    "#### Step 4: Generate the summary statistics for the Monte Carlo simulation."
   ]
  },
  {
   "cell_type": "code",
   "execution_count": 46,
   "metadata": {},
   "outputs": [
    {
     "data": {
      "text/plain": [
       "count           500.000000\n",
       "mean              3.226127\n",
       "std               3.156552\n",
       "min               0.166887\n",
       "25%               1.334068\n",
       "50%               2.299081\n",
       "75%               3.864321\n",
       "max              23.920333\n",
       "95% CI Lower      0.435973\n",
       "95% CI Upper     11.946951\n",
       "Name: 7560, dtype: float64"
      ]
     },
     "execution_count": 46,
     "metadata": {},
     "output_type": "execute_result"
    }
   ],
   "source": [
    "# Generate summary statistics from the 30-year Monte Carlo simulation results\n",
    "# Save the results as a variable\n",
    "thirty_year_summary = MC_thirty_year.summarize_cumulative_return()\n",
    "\n",
    "\n",
    "# Review the 30-year Monte Carlo summary statistics\n",
    "thirty_year_summary"
   ]
  },
  {
   "cell_type": "markdown",
   "metadata": {},
   "source": [
    "### Analyze the Retirement Portfolio Forecasts\n",
    "\n",
    "Using the current value of only the stock and bond portion of the member's portfolio and the summary statistics that you generated from the Monte Carlo simulation, answer the following question in your Jupyter notebook:\n",
    "\n",
    "-  What are the lower and upper bounds for the expected value of the portfolio with a 95% confidence interval?\n"
   ]
  },
  {
   "cell_type": "code",
   "execution_count": 74,
   "metadata": {
    "tags": []
   },
   "outputs": [
    {
     "data": {
      "text/plain": [
       "62029.7"
      ]
     },
     "execution_count": 74,
     "metadata": {},
     "output_type": "execute_result"
    }
   ],
   "source": [
    "# Print the current balance of the stock and bond portion of the members portfolio\n",
    "total_stocks_bonds\n"
   ]
  },
  {
   "cell_type": "code",
   "execution_count": 76,
   "metadata": {},
   "outputs": [
    {
     "name": "stdout",
     "output_type": "stream",
     "text": [
      "741065.7812894948\n",
      "27043.260512952365\n"
     ]
    }
   ],
   "source": [
    "# Use the lower and upper `95%` confidence intervals to calculate the range of the pos* total_stocks_bonds\n",
    "ci_upper_thirty_cumulative_return = thirty_year_summary[9] * total_stocks_bonds\n",
    "ci_lower_thirty_cumulative_return = thirty_year_summary[8] * total_stocks_bonds\n",
    "\n",
    "# Print the result of your calculations\n",
    "print (ci_upper_thirty_cumulative_return)\n",
    "print (ci_lower_thirty_cumulative_return)"
   ]
  },
  {
   "cell_type": "markdown",
   "metadata": {},
   "source": [
    "### Forecast Cumulative Returns in 10 Years\n",
    "\n",
    "The CTO of the credit union is impressed with your work on these planning tools but wonders if 30 years is a long time to wait until retirement. So, your next task is to adjust the retirement portfolio and run a new Monte Carlo simulation to find out if the changes will allow members to retire earlier.\n",
    "\n",
    "For this new Monte Carlo simulation, do the following: \n",
    "\n",
    "- Forecast the cumulative returns for 10 years from now. Because of the shortened investment horizon (30 years to 10 years), the portfolio needs to invest more heavily in the riskier asset&mdash;that is, stock&mdash;to help accumulate wealth for retirement. \n",
    "\n",
    "- Adjust the weights of the retirement portfolio so that the composition for the Monte Carlo simulation consists of 20% bonds and 80% stocks. \n",
    "\n",
    "- Run the simulation over 500 samples, and use the same data that the API call to Alpaca generated.\n",
    "\n",
    "- Based on the new Monte Carlo simulation, answer the following questions in your Jupyter notebook:\n",
    "\n",
    "    - Using the current value of only the stock and bond portion of the member's portfolio and the summary statistics that you generated from the new Monte Carlo simulation, what are the lower and upper bounds for the expected value of the portfolio (with the new weights) with a 95% confidence interval?\n",
    "\n",
    "    - Will weighting the portfolio more heavily toward stocks allow the credit union members to retire after only 10 years?\n"
   ]
  },
  {
   "cell_type": "code",
   "execution_count": 54,
   "metadata": {},
   "outputs": [
    {
     "data": {
      "text/html": [
       "<div>\n",
       "<style scoped>\n",
       "    .dataframe tbody tr th:only-of-type {\n",
       "        vertical-align: middle;\n",
       "    }\n",
       "\n",
       "    .dataframe tbody tr th {\n",
       "        vertical-align: top;\n",
       "    }\n",
       "\n",
       "    .dataframe thead tr th {\n",
       "        text-align: left;\n",
       "    }\n",
       "\n",
       "    .dataframe thead tr:last-of-type th {\n",
       "        text-align: right;\n",
       "    }\n",
       "</style>\n",
       "<table border=\"1\" class=\"dataframe\">\n",
       "  <thead>\n",
       "    <tr>\n",
       "      <th></th>\n",
       "      <th colspan=\"8\" halign=\"left\">AGG</th>\n",
       "      <th colspan=\"8\" halign=\"left\">SPY</th>\n",
       "    </tr>\n",
       "    <tr>\n",
       "      <th></th>\n",
       "      <th>open</th>\n",
       "      <th>high</th>\n",
       "      <th>low</th>\n",
       "      <th>close</th>\n",
       "      <th>volume</th>\n",
       "      <th>trade_count</th>\n",
       "      <th>vwap</th>\n",
       "      <th>daily_return</th>\n",
       "      <th>open</th>\n",
       "      <th>high</th>\n",
       "      <th>low</th>\n",
       "      <th>close</th>\n",
       "      <th>volume</th>\n",
       "      <th>trade_count</th>\n",
       "      <th>vwap</th>\n",
       "      <th>daily_return</th>\n",
       "    </tr>\n",
       "    <tr>\n",
       "      <th>timestamp</th>\n",
       "      <th></th>\n",
       "      <th></th>\n",
       "      <th></th>\n",
       "      <th></th>\n",
       "      <th></th>\n",
       "      <th></th>\n",
       "      <th></th>\n",
       "      <th></th>\n",
       "      <th></th>\n",
       "      <th></th>\n",
       "      <th></th>\n",
       "      <th></th>\n",
       "      <th></th>\n",
       "      <th></th>\n",
       "      <th></th>\n",
       "      <th></th>\n",
       "    </tr>\n",
       "  </thead>\n",
       "  <tbody>\n",
       "    <tr>\n",
       "      <th>2019-12-16 05:00:00+00:00</th>\n",
       "      <td>112.68</td>\n",
       "      <td>112.690</td>\n",
       "      <td>112.50</td>\n",
       "      <td>112.58</td>\n",
       "      <td>5012290</td>\n",
       "      <td>12368</td>\n",
       "      <td>112.575966</td>\n",
       "      <td>NaN</td>\n",
       "      <td>319.22</td>\n",
       "      <td>320.1500</td>\n",
       "      <td>317.2542</td>\n",
       "      <td>319.4900</td>\n",
       "      <td>82955814</td>\n",
       "      <td>254813</td>\n",
       "      <td>319.450460</td>\n",
       "      <td>NaN</td>\n",
       "    </tr>\n",
       "    <tr>\n",
       "      <th>2019-12-17 05:00:00+00:00</th>\n",
       "      <td>112.69</td>\n",
       "      <td>112.700</td>\n",
       "      <td>112.52</td>\n",
       "      <td>112.59</td>\n",
       "      <td>3016331</td>\n",
       "      <td>10486</td>\n",
       "      <td>112.586888</td>\n",
       "      <td>0.000089</td>\n",
       "      <td>319.92</td>\n",
       "      <td>320.2500</td>\n",
       "      <td>319.4800</td>\n",
       "      <td>319.5495</td>\n",
       "      <td>61186347</td>\n",
       "      <td>203126</td>\n",
       "      <td>319.698999</td>\n",
       "      <td>0.000186</td>\n",
       "    </tr>\n",
       "    <tr>\n",
       "      <th>2019-12-18 05:00:00+00:00</th>\n",
       "      <td>112.55</td>\n",
       "      <td>112.555</td>\n",
       "      <td>112.36</td>\n",
       "      <td>112.37</td>\n",
       "      <td>6563816</td>\n",
       "      <td>14202</td>\n",
       "      <td>112.396296</td>\n",
       "      <td>-0.001954</td>\n",
       "      <td>320.00</td>\n",
       "      <td>320.2500</td>\n",
       "      <td>319.5300</td>\n",
       "      <td>319.5600</td>\n",
       "      <td>49623485</td>\n",
       "      <td>191934</td>\n",
       "      <td>319.809935</td>\n",
       "      <td>0.000033</td>\n",
       "    </tr>\n",
       "    <tr>\n",
       "      <th>2019-12-19 05:00:00+00:00</th>\n",
       "      <td>112.19</td>\n",
       "      <td>112.360</td>\n",
       "      <td>112.13</td>\n",
       "      <td>112.30</td>\n",
       "      <td>5736769</td>\n",
       "      <td>14342</td>\n",
       "      <td>112.272637</td>\n",
       "      <td>-0.000623</td>\n",
       "      <td>319.80</td>\n",
       "      <td>320.9800</td>\n",
       "      <td>319.5246</td>\n",
       "      <td>320.8700</td>\n",
       "      <td>86170213</td>\n",
       "      <td>209269</td>\n",
       "      <td>320.413933</td>\n",
       "      <td>0.004099</td>\n",
       "    </tr>\n",
       "    <tr>\n",
       "      <th>2019-12-20 05:00:00+00:00</th>\n",
       "      <td>112.21</td>\n",
       "      <td>112.330</td>\n",
       "      <td>112.15</td>\n",
       "      <td>112.32</td>\n",
       "      <td>8809204</td>\n",
       "      <td>15555</td>\n",
       "      <td>112.261101</td>\n",
       "      <td>0.000178</td>\n",
       "      <td>320.49</td>\n",
       "      <td>321.9742</td>\n",
       "      <td>319.3873</td>\n",
       "      <td>320.8600</td>\n",
       "      <td>155358870</td>\n",
       "      <td>290669</td>\n",
       "      <td>321.049183</td>\n",
       "      <td>-0.000031</td>\n",
       "    </tr>\n",
       "  </tbody>\n",
       "</table>\n",
       "</div>"
      ],
      "text/plain": [
       "                              AGG                                    \\\n",
       "                             open     high     low   close   volume   \n",
       "timestamp                                                             \n",
       "2019-12-16 05:00:00+00:00  112.68  112.690  112.50  112.58  5012290   \n",
       "2019-12-17 05:00:00+00:00  112.69  112.700  112.52  112.59  3016331   \n",
       "2019-12-18 05:00:00+00:00  112.55  112.555  112.36  112.37  6563816   \n",
       "2019-12-19 05:00:00+00:00  112.19  112.360  112.13  112.30  5736769   \n",
       "2019-12-20 05:00:00+00:00  112.21  112.330  112.15  112.32  8809204   \n",
       "\n",
       "                                                                   SPY  \\\n",
       "                          trade_count        vwap daily_return    open   \n",
       "timestamp                                                                \n",
       "2019-12-16 05:00:00+00:00       12368  112.575966          NaN  319.22   \n",
       "2019-12-17 05:00:00+00:00       10486  112.586888     0.000089  319.92   \n",
       "2019-12-18 05:00:00+00:00       14202  112.396296    -0.001954  320.00   \n",
       "2019-12-19 05:00:00+00:00       14342  112.272637    -0.000623  319.80   \n",
       "2019-12-20 05:00:00+00:00       15555  112.261101     0.000178  320.49   \n",
       "\n",
       "                                                                    \\\n",
       "                               high       low     close     volume   \n",
       "timestamp                                                            \n",
       "2019-12-16 05:00:00+00:00  320.1500  317.2542  319.4900   82955814   \n",
       "2019-12-17 05:00:00+00:00  320.2500  319.4800  319.5495   61186347   \n",
       "2019-12-18 05:00:00+00:00  320.2500  319.5300  319.5600   49623485   \n",
       "2019-12-19 05:00:00+00:00  320.9800  319.5246  320.8700   86170213   \n",
       "2019-12-20 05:00:00+00:00  321.9742  319.3873  320.8600  155358870   \n",
       "\n",
       "                                                                \n",
       "                          trade_count        vwap daily_return  \n",
       "timestamp                                                       \n",
       "2019-12-16 05:00:00+00:00      254813  319.450460          NaN  \n",
       "2019-12-17 05:00:00+00:00      203126  319.698999     0.000186  \n",
       "2019-12-18 05:00:00+00:00      191934  319.809935     0.000033  \n",
       "2019-12-19 05:00:00+00:00      209269  320.413933     0.004099  \n",
       "2019-12-20 05:00:00+00:00      290669  321.049183    -0.000031  "
      ]
     },
     "execution_count": 54,
     "metadata": {},
     "output_type": "execute_result"
    }
   ],
   "source": [
    "# Configure a Monte Carlo simulation to forecast 10 years cumulative returns\n",
    "# The weights should be split 20% to AGG and 80% to SPY.\n",
    "# Run 500 samples.\n",
    "MC_ten_year = MCSimulation(portfolio_data = portfolio_df, weights = [0.20, 0.80], num_simulation = 500, num_trading_days = 252 * 10)\n",
    "\n",
    "# Review the simulation input data\n",
    "MC_ten_year.portfolio_data.head()\n"
   ]
  },
  {
   "cell_type": "code",
   "execution_count": 55,
   "metadata": {},
   "outputs": [
    {
     "name": "stdout",
     "output_type": "stream",
     "text": [
      "Running Monte Carlo simulation number 0.\n",
      "Running Monte Carlo simulation number 10.\n",
      "Running Monte Carlo simulation number 20.\n",
      "Running Monte Carlo simulation number 30.\n",
      "Running Monte Carlo simulation number 40.\n",
      "Running Monte Carlo simulation number 50.\n",
      "Running Monte Carlo simulation number 60.\n",
      "Running Monte Carlo simulation number 70.\n",
      "Running Monte Carlo simulation number 80.\n",
      "Running Monte Carlo simulation number 90.\n",
      "Running Monte Carlo simulation number 100.\n"
     ]
    },
    {
     "name": "stderr",
     "output_type": "stream",
     "text": [
      "C:\\Users\\olgao\\OneDrive\\Desktop\\challenge_5\\Financial_Planning_Tools\\MCForecastTools.py:117: PerformanceWarning: DataFrame is highly fragmented.  This is usually the result of calling `frame.insert` many times, which has poor performance.  Consider joining all columns at once using pd.concat(axis=1) instead.  To get a de-fragmented frame, use `newframe = frame.copy()`\n",
      "  portfolio_cumulative_returns[n] = (1 + sim_df.fillna(0)).cumprod()\n"
     ]
    },
    {
     "name": "stdout",
     "output_type": "stream",
     "text": [
      "Running Monte Carlo simulation number 110.\n",
      "Running Monte Carlo simulation number 120.\n",
      "Running Monte Carlo simulation number 130.\n",
      "Running Monte Carlo simulation number 140.\n",
      "Running Monte Carlo simulation number 150.\n",
      "Running Monte Carlo simulation number 160.\n",
      "Running Monte Carlo simulation number 170.\n",
      "Running Monte Carlo simulation number 180.\n",
      "Running Monte Carlo simulation number 190.\n",
      "Running Monte Carlo simulation number 200.\n",
      "Running Monte Carlo simulation number 210.\n",
      "Running Monte Carlo simulation number 220.\n",
      "Running Monte Carlo simulation number 230.\n",
      "Running Monte Carlo simulation number 240.\n",
      "Running Monte Carlo simulation number 250.\n",
      "Running Monte Carlo simulation number 260.\n",
      "Running Monte Carlo simulation number 270.\n",
      "Running Monte Carlo simulation number 280.\n",
      "Running Monte Carlo simulation number 290.\n",
      "Running Monte Carlo simulation number 300.\n",
      "Running Monte Carlo simulation number 310.\n",
      "Running Monte Carlo simulation number 320.\n",
      "Running Monte Carlo simulation number 330.\n",
      "Running Monte Carlo simulation number 340.\n",
      "Running Monte Carlo simulation number 350.\n",
      "Running Monte Carlo simulation number 360.\n",
      "Running Monte Carlo simulation number 370.\n",
      "Running Monte Carlo simulation number 380.\n",
      "Running Monte Carlo simulation number 390.\n",
      "Running Monte Carlo simulation number 400.\n",
      "Running Monte Carlo simulation number 410.\n",
      "Running Monte Carlo simulation number 420.\n",
      "Running Monte Carlo simulation number 430.\n",
      "Running Monte Carlo simulation number 440.\n",
      "Running Monte Carlo simulation number 450.\n",
      "Running Monte Carlo simulation number 460.\n",
      "Running Monte Carlo simulation number 470.\n",
      "Running Monte Carlo simulation number 480.\n",
      "Running Monte Carlo simulation number 490.\n"
     ]
    },
    {
     "data": {
      "text/html": [
       "<div>\n",
       "<style scoped>\n",
       "    .dataframe tbody tr th:only-of-type {\n",
       "        vertical-align: middle;\n",
       "    }\n",
       "\n",
       "    .dataframe tbody tr th {\n",
       "        vertical-align: top;\n",
       "    }\n",
       "\n",
       "    .dataframe thead th {\n",
       "        text-align: right;\n",
       "    }\n",
       "</style>\n",
       "<table border=\"1\" class=\"dataframe\">\n",
       "  <thead>\n",
       "    <tr style=\"text-align: right;\">\n",
       "      <th></th>\n",
       "      <th>0</th>\n",
       "      <th>1</th>\n",
       "      <th>2</th>\n",
       "      <th>3</th>\n",
       "      <th>4</th>\n",
       "      <th>5</th>\n",
       "      <th>6</th>\n",
       "      <th>7</th>\n",
       "      <th>8</th>\n",
       "      <th>9</th>\n",
       "      <th>...</th>\n",
       "      <th>490</th>\n",
       "      <th>491</th>\n",
       "      <th>492</th>\n",
       "      <th>493</th>\n",
       "      <th>494</th>\n",
       "      <th>495</th>\n",
       "      <th>496</th>\n",
       "      <th>497</th>\n",
       "      <th>498</th>\n",
       "      <th>499</th>\n",
       "    </tr>\n",
       "  </thead>\n",
       "  <tbody>\n",
       "    <tr>\n",
       "      <th>0</th>\n",
       "      <td>1.000000</td>\n",
       "      <td>1.000000</td>\n",
       "      <td>1.000000</td>\n",
       "      <td>1.000000</td>\n",
       "      <td>1.000000</td>\n",
       "      <td>1.000000</td>\n",
       "      <td>1.000000</td>\n",
       "      <td>1.000000</td>\n",
       "      <td>1.000000</td>\n",
       "      <td>1.000000</td>\n",
       "      <td>...</td>\n",
       "      <td>1.000000</td>\n",
       "      <td>1.000000</td>\n",
       "      <td>1.000000</td>\n",
       "      <td>1.000000</td>\n",
       "      <td>1.000000</td>\n",
       "      <td>1.000000</td>\n",
       "      <td>1.000000</td>\n",
       "      <td>1.000000</td>\n",
       "      <td>1.000000</td>\n",
       "      <td>1.000000</td>\n",
       "    </tr>\n",
       "    <tr>\n",
       "      <th>1</th>\n",
       "      <td>0.996366</td>\n",
       "      <td>0.988751</td>\n",
       "      <td>1.012791</td>\n",
       "      <td>0.983555</td>\n",
       "      <td>0.966703</td>\n",
       "      <td>1.007148</td>\n",
       "      <td>0.996316</td>\n",
       "      <td>1.018626</td>\n",
       "      <td>0.985905</td>\n",
       "      <td>1.007062</td>\n",
       "      <td>...</td>\n",
       "      <td>1.020150</td>\n",
       "      <td>0.994378</td>\n",
       "      <td>0.995468</td>\n",
       "      <td>1.015907</td>\n",
       "      <td>1.000841</td>\n",
       "      <td>0.998841</td>\n",
       "      <td>0.985520</td>\n",
       "      <td>0.995871</td>\n",
       "      <td>1.016166</td>\n",
       "      <td>1.010389</td>\n",
       "    </tr>\n",
       "    <tr>\n",
       "      <th>2</th>\n",
       "      <td>1.003377</td>\n",
       "      <td>0.969837</td>\n",
       "      <td>1.019121</td>\n",
       "      <td>0.963118</td>\n",
       "      <td>0.963097</td>\n",
       "      <td>1.016483</td>\n",
       "      <td>0.999074</td>\n",
       "      <td>1.021495</td>\n",
       "      <td>1.004254</td>\n",
       "      <td>1.012784</td>\n",
       "      <td>...</td>\n",
       "      <td>1.034539</td>\n",
       "      <td>0.988385</td>\n",
       "      <td>0.982150</td>\n",
       "      <td>1.010733</td>\n",
       "      <td>0.989478</td>\n",
       "      <td>0.996517</td>\n",
       "      <td>0.970560</td>\n",
       "      <td>1.004945</td>\n",
       "      <td>1.003013</td>\n",
       "      <td>0.999773</td>\n",
       "    </tr>\n",
       "    <tr>\n",
       "      <th>3</th>\n",
       "      <td>0.999139</td>\n",
       "      <td>0.978791</td>\n",
       "      <td>0.980606</td>\n",
       "      <td>0.980856</td>\n",
       "      <td>0.970082</td>\n",
       "      <td>1.012731</td>\n",
       "      <td>0.994635</td>\n",
       "      <td>1.010482</td>\n",
       "      <td>1.006138</td>\n",
       "      <td>1.008611</td>\n",
       "      <td>...</td>\n",
       "      <td>1.015429</td>\n",
       "      <td>0.979787</td>\n",
       "      <td>0.975905</td>\n",
       "      <td>1.008462</td>\n",
       "      <td>0.994296</td>\n",
       "      <td>0.978161</td>\n",
       "      <td>0.975068</td>\n",
       "      <td>1.004177</td>\n",
       "      <td>1.024611</td>\n",
       "      <td>0.991220</td>\n",
       "    </tr>\n",
       "    <tr>\n",
       "      <th>4</th>\n",
       "      <td>0.994281</td>\n",
       "      <td>0.956511</td>\n",
       "      <td>0.985214</td>\n",
       "      <td>0.977061</td>\n",
       "      <td>0.970344</td>\n",
       "      <td>1.019777</td>\n",
       "      <td>0.995205</td>\n",
       "      <td>1.004113</td>\n",
       "      <td>1.014992</td>\n",
       "      <td>1.027535</td>\n",
       "      <td>...</td>\n",
       "      <td>1.007154</td>\n",
       "      <td>0.987975</td>\n",
       "      <td>0.976997</td>\n",
       "      <td>0.993113</td>\n",
       "      <td>1.003975</td>\n",
       "      <td>0.975479</td>\n",
       "      <td>0.979721</td>\n",
       "      <td>1.016239</td>\n",
       "      <td>1.020879</td>\n",
       "      <td>1.004262</td>\n",
       "    </tr>\n",
       "    <tr>\n",
       "      <th>...</th>\n",
       "      <td>...</td>\n",
       "      <td>...</td>\n",
       "      <td>...</td>\n",
       "      <td>...</td>\n",
       "      <td>...</td>\n",
       "      <td>...</td>\n",
       "      <td>...</td>\n",
       "      <td>...</td>\n",
       "      <td>...</td>\n",
       "      <td>...</td>\n",
       "      <td>...</td>\n",
       "      <td>...</td>\n",
       "      <td>...</td>\n",
       "      <td>...</td>\n",
       "      <td>...</td>\n",
       "      <td>...</td>\n",
       "      <td>...</td>\n",
       "      <td>...</td>\n",
       "      <td>...</td>\n",
       "      <td>...</td>\n",
       "      <td>...</td>\n",
       "    </tr>\n",
       "    <tr>\n",
       "      <th>2516</th>\n",
       "      <td>1.051973</td>\n",
       "      <td>0.661746</td>\n",
       "      <td>1.614936</td>\n",
       "      <td>1.123348</td>\n",
       "      <td>2.507086</td>\n",
       "      <td>1.284517</td>\n",
       "      <td>0.737831</td>\n",
       "      <td>2.366640</td>\n",
       "      <td>1.633851</td>\n",
       "      <td>1.269810</td>\n",
       "      <td>...</td>\n",
       "      <td>0.731140</td>\n",
       "      <td>0.642366</td>\n",
       "      <td>1.444490</td>\n",
       "      <td>0.884149</td>\n",
       "      <td>1.201757</td>\n",
       "      <td>2.433833</td>\n",
       "      <td>1.536800</td>\n",
       "      <td>1.338134</td>\n",
       "      <td>1.941749</td>\n",
       "      <td>6.558509</td>\n",
       "    </tr>\n",
       "    <tr>\n",
       "      <th>2517</th>\n",
       "      <td>1.050820</td>\n",
       "      <td>0.687874</td>\n",
       "      <td>1.596745</td>\n",
       "      <td>1.084421</td>\n",
       "      <td>2.464687</td>\n",
       "      <td>1.294654</td>\n",
       "      <td>0.742739</td>\n",
       "      <td>2.376136</td>\n",
       "      <td>1.625429</td>\n",
       "      <td>1.269446</td>\n",
       "      <td>...</td>\n",
       "      <td>0.733654</td>\n",
       "      <td>0.648713</td>\n",
       "      <td>1.468543</td>\n",
       "      <td>0.883572</td>\n",
       "      <td>1.189056</td>\n",
       "      <td>2.418505</td>\n",
       "      <td>1.546708</td>\n",
       "      <td>1.346067</td>\n",
       "      <td>1.967831</td>\n",
       "      <td>6.660464</td>\n",
       "    </tr>\n",
       "    <tr>\n",
       "      <th>2518</th>\n",
       "      <td>1.046877</td>\n",
       "      <td>0.683581</td>\n",
       "      <td>1.542676</td>\n",
       "      <td>1.095873</td>\n",
       "      <td>2.493599</td>\n",
       "      <td>1.317060</td>\n",
       "      <td>0.725508</td>\n",
       "      <td>2.380803</td>\n",
       "      <td>1.677600</td>\n",
       "      <td>1.234596</td>\n",
       "      <td>...</td>\n",
       "      <td>0.731312</td>\n",
       "      <td>0.659069</td>\n",
       "      <td>1.506043</td>\n",
       "      <td>0.892572</td>\n",
       "      <td>1.192880</td>\n",
       "      <td>2.382006</td>\n",
       "      <td>1.539304</td>\n",
       "      <td>1.349338</td>\n",
       "      <td>2.003403</td>\n",
       "      <td>6.643700</td>\n",
       "    </tr>\n",
       "    <tr>\n",
       "      <th>2519</th>\n",
       "      <td>1.069642</td>\n",
       "      <td>0.689830</td>\n",
       "      <td>1.543905</td>\n",
       "      <td>1.103941</td>\n",
       "      <td>2.469970</td>\n",
       "      <td>1.304251</td>\n",
       "      <td>0.725835</td>\n",
       "      <td>2.359488</td>\n",
       "      <td>1.698308</td>\n",
       "      <td>1.249018</td>\n",
       "      <td>...</td>\n",
       "      <td>0.723343</td>\n",
       "      <td>0.649102</td>\n",
       "      <td>1.525727</td>\n",
       "      <td>0.906879</td>\n",
       "      <td>1.184083</td>\n",
       "      <td>2.326172</td>\n",
       "      <td>1.508744</td>\n",
       "      <td>1.356357</td>\n",
       "      <td>2.020999</td>\n",
       "      <td>6.661630</td>\n",
       "    </tr>\n",
       "    <tr>\n",
       "      <th>2520</th>\n",
       "      <td>1.057207</td>\n",
       "      <td>0.669462</td>\n",
       "      <td>1.543562</td>\n",
       "      <td>1.093717</td>\n",
       "      <td>2.492179</td>\n",
       "      <td>1.314274</td>\n",
       "      <td>0.716017</td>\n",
       "      <td>2.332403</td>\n",
       "      <td>1.683138</td>\n",
       "      <td>1.226528</td>\n",
       "      <td>...</td>\n",
       "      <td>0.725096</td>\n",
       "      <td>0.645487</td>\n",
       "      <td>1.516142</td>\n",
       "      <td>0.907021</td>\n",
       "      <td>1.196755</td>\n",
       "      <td>2.315108</td>\n",
       "      <td>1.530862</td>\n",
       "      <td>1.376076</td>\n",
       "      <td>2.033682</td>\n",
       "      <td>6.735029</td>\n",
       "    </tr>\n",
       "  </tbody>\n",
       "</table>\n",
       "<p>2521 rows × 500 columns</p>\n",
       "</div>"
      ],
      "text/plain": [
       "           0         1         2         3         4         5         6    \\\n",
       "0     1.000000  1.000000  1.000000  1.000000  1.000000  1.000000  1.000000   \n",
       "1     0.996366  0.988751  1.012791  0.983555  0.966703  1.007148  0.996316   \n",
       "2     1.003377  0.969837  1.019121  0.963118  0.963097  1.016483  0.999074   \n",
       "3     0.999139  0.978791  0.980606  0.980856  0.970082  1.012731  0.994635   \n",
       "4     0.994281  0.956511  0.985214  0.977061  0.970344  1.019777  0.995205   \n",
       "...        ...       ...       ...       ...       ...       ...       ...   \n",
       "2516  1.051973  0.661746  1.614936  1.123348  2.507086  1.284517  0.737831   \n",
       "2517  1.050820  0.687874  1.596745  1.084421  2.464687  1.294654  0.742739   \n",
       "2518  1.046877  0.683581  1.542676  1.095873  2.493599  1.317060  0.725508   \n",
       "2519  1.069642  0.689830  1.543905  1.103941  2.469970  1.304251  0.725835   \n",
       "2520  1.057207  0.669462  1.543562  1.093717  2.492179  1.314274  0.716017   \n",
       "\n",
       "           7         8         9    ...       490       491       492  \\\n",
       "0     1.000000  1.000000  1.000000  ...  1.000000  1.000000  1.000000   \n",
       "1     1.018626  0.985905  1.007062  ...  1.020150  0.994378  0.995468   \n",
       "2     1.021495  1.004254  1.012784  ...  1.034539  0.988385  0.982150   \n",
       "3     1.010482  1.006138  1.008611  ...  1.015429  0.979787  0.975905   \n",
       "4     1.004113  1.014992  1.027535  ...  1.007154  0.987975  0.976997   \n",
       "...        ...       ...       ...  ...       ...       ...       ...   \n",
       "2516  2.366640  1.633851  1.269810  ...  0.731140  0.642366  1.444490   \n",
       "2517  2.376136  1.625429  1.269446  ...  0.733654  0.648713  1.468543   \n",
       "2518  2.380803  1.677600  1.234596  ...  0.731312  0.659069  1.506043   \n",
       "2519  2.359488  1.698308  1.249018  ...  0.723343  0.649102  1.525727   \n",
       "2520  2.332403  1.683138  1.226528  ...  0.725096  0.645487  1.516142   \n",
       "\n",
       "           493       494       495       496       497       498       499  \n",
       "0     1.000000  1.000000  1.000000  1.000000  1.000000  1.000000  1.000000  \n",
       "1     1.015907  1.000841  0.998841  0.985520  0.995871  1.016166  1.010389  \n",
       "2     1.010733  0.989478  0.996517  0.970560  1.004945  1.003013  0.999773  \n",
       "3     1.008462  0.994296  0.978161  0.975068  1.004177  1.024611  0.991220  \n",
       "4     0.993113  1.003975  0.975479  0.979721  1.016239  1.020879  1.004262  \n",
       "...        ...       ...       ...       ...       ...       ...       ...  \n",
       "2516  0.884149  1.201757  2.433833  1.536800  1.338134  1.941749  6.558509  \n",
       "2517  0.883572  1.189056  2.418505  1.546708  1.346067  1.967831  6.660464  \n",
       "2518  0.892572  1.192880  2.382006  1.539304  1.349338  2.003403  6.643700  \n",
       "2519  0.906879  1.184083  2.326172  1.508744  1.356357  2.020999  6.661630  \n",
       "2520  0.907021  1.196755  2.315108  1.530862  1.376076  2.033682  6.735029  \n",
       "\n",
       "[2521 rows x 500 columns]"
      ]
     },
     "execution_count": 55,
     "metadata": {},
     "output_type": "execute_result"
    }
   ],
   "source": [
    "# Run the Monte Carlo simulation to forecast 10 years cumulative returns\n",
    "MC_ten_year.calc_cumulative_return()\n"
   ]
  },
  {
   "cell_type": "code",
   "execution_count": 56,
   "metadata": {},
   "outputs": [
    {
     "data": {
      "text/plain": [
       "<AxesSubplot:title={'center':'500 Simulations of Cumulative Portfolio Return Trajectories Over the Next 2520 Trading Days.'}>"
      ]
     },
     "execution_count": 56,
     "metadata": {},
     "output_type": "execute_result"
    },
    {
     "data": {
      "image/png": "[encoded data removed]",
      "text/plain": [
       "<Figure size 640x480 with 1 Axes>"
      ]
     },
     "metadata": {},
     "output_type": "display_data"
    }
   ],
   "source": [
    "# Visualize the 10-year Monte Carlo simulation by creating an\n",
    "# overlay line plot\n",
    "MC_ten_year.plot_simulation()\n"
   ]
  },
  {
   "cell_type": "code",
   "execution_count": 58,
   "metadata": {},
   "outputs": [
    {
     "data": {
      "text/plain": [
       "<bound method MCSimulation.plot_distribution of <MCForecastTools.MCSimulation object at 0x0000020004DEAB08>>"
      ]
     },
     "execution_count": 58,
     "metadata": {},
     "output_type": "execute_result"
    }
   ],
   "source": [
    "# Visualize the probability distribution of the 10-year Monte Carlo simulation \n",
    "# by plotting a histogram\n",
    "MC_ten_year.plot_distribution\n"
   ]
  },
  {
   "cell_type": "code",
   "execution_count": 62,
   "metadata": {},
   "outputs": [
    {
     "data": {
      "text/plain": [
       "count           500.000000\n",
       "mean              1.882956\n",
       "std               1.325283\n",
       "min               0.303841\n",
       "25%               1.033903\n",
       "50%               1.539746\n",
       "75%               2.287937\n",
       "max              10.543262\n",
       "95% CI Lower      0.446983\n",
       "95% CI Upper      5.697040\n",
       "Name: 2520, dtype: float64"
      ]
     },
     "execution_count": 62,
     "metadata": {},
     "output_type": "execute_result"
    }
   ],
   "source": [
    "# Generate summary statistics from the 10-year Monte Carlo simulation results\n",
    "# Save the results as a variable\n",
    "ten_year_summary = MC_ten_year.summarize_cumulative_return()\n",
    "\n",
    "# Review the 10-year Monte Carlo summary statistics\n",
    "ten_year_summary"
   ]
  },
  {
   "cell_type": "markdown",
   "metadata": {},
   "source": [
    "### Answer the following questions:"
   ]
  },
  {
   "cell_type": "markdown",
   "metadata": {},
   "source": [
    "#### Question: Using the current value of only the stock and bond portion of the member's portfolio and the summary statistics that you generated from the new Monte Carlo simulation, what are the lower and upper bounds for the expected value of the portfolio (with the new weights) with a 95% confidence interval?"
   ]
  },
  {
   "cell_type": "code",
   "execution_count": 64,
   "metadata": {},
   "outputs": [
    {
     "data": {
      "text/plain": [
       "62029.7"
      ]
     },
     "execution_count": 64,
     "metadata": {},
     "output_type": "execute_result"
    }
   ],
   "source": [
    "# Print the current balance of the stock and bond portion of the members portfolio\n",
    "total_stocks_bonds\n"
   ]
  },
  {
   "cell_type": "code",
   "execution_count": 80,
   "metadata": {},
   "outputs": [
    {
     "name": "stdout",
     "output_type": "stream",
     "text": [
      "27726.242413171214\n",
      "353385.65243281523\n"
     ]
    }
   ],
   "source": [
    "# Use the lower and upper `95%` confidence intervals to calculate the range of the possible outcomes for the current stock/bond portfolio\n",
    "#ci_lower_ten_cumulative_return = ten_year_cumulative_summary [8] * total_stocks_bonds \n",
    "#ci_upper_ten_cumulative_return = ten_year_cumulative_summary [9] * total_stocks_bonds\n",
    "ci_upper_ten_cumulative_return = ten_year_summary[9] * total_stocks_bonds\n",
    "ci_lower_ten_cumulative_return = ten_year_summary[8] * total_stocks_bonds\n",
    "# Print the result of your calculations\n",
    "print (ci_lower_ten_cumulative_return)\n",
    "print (ci_upper_ten_cumulative_return)\n"
   ]
  },
  {
   "cell_type": "markdown",
   "metadata": {},
   "source": [
    "#### Question: Will weighting the portfolio more heavily to stocks allow the credit union members to retire after only 10 years?"
   ]
  },
  {
   "cell_type": "raw",
   "metadata": {},
   "source": [
    "**Answer** No it will not. "
   ]
  },
  {
   "cell_type": "code",
   "execution_count": null,
   "metadata": {},
   "outputs": [],
   "source": []
  }
 ],
 "metadata": {
  "kernelspec": {
   "display_name": "Python 3 (ipykernel)",
   "language": "python",
   "name": "python3"
  },
  "language_info": {
   "codemirror_mode": {
    "name": "ipython",
    "version": 3
   },
   "file_extension": ".py",
   "mimetype": "text/x-python",
   "name": "python",
   "nbconvert_exporter": "python",
   "pygments_lexer": "ipython3",
   "version": "3.7.13"
  }
 },
 "nbformat": 4,
 "nbformat_minor": 4
}
